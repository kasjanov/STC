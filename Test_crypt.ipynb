{
 "cells": [
  {
   "cell_type": "code",
   "execution_count": 1,
   "id": "510e8298",
   "metadata": {},
   "outputs": [],
   "source": [
    "import matplotlib.pyplot as plt\n",
    "import numpy as np\n",
    "import random\n",
    "import time\n",
    "\n",
    "from math import ceil\n",
    "from scipy import optimize, stats\n",
    "from sympy import *\n",
    "from tqdm import tqdm"
   ]
  },
  {
   "cell_type": "markdown",
   "id": "76186482",
   "metadata": {},
   "source": [
    "### Часть I. Основы анализа"
   ]
  },
  {
   "cell_type": "markdown",
   "id": "6a807390",
   "metadata": {},
   "source": [
    "##### Задача 1. Найдите предел"
   ]
  },
  {
   "cell_type": "markdown",
   "id": "c3ea5456",
   "metadata": {},
   "source": [
    "1. $\\displaystyle\\lim_{x\\to-\\infty}\\frac{\\sqrt{x^2+1}}{x} = \n",
    "    \\lim_{x\\to\\infty}-\\sqrt{\\frac{x^2+1}{x^2}} = \n",
    "    \\lim_{x\\to\\infty}-\\sqrt{1+\\frac{1}{x^2}} = -1$"
   ]
  },
  {
   "cell_type": "code",
   "execution_count": 2,
   "id": "4f16b377",
   "metadata": {},
   "outputs": [
    {
     "name": "stdout",
     "output_type": "stream",
     "text": [
      "Expressions: \n",
      "sqrt(x**2 + 1)/x\n"
     ]
    }
   ],
   "source": [
    "x = symbols('x')\n",
    "expr = sqrt(pow(x,2)+1)/x\n",
    "print(f'Expressions: \\n{expr}')"
   ]
  },
  {
   "cell_type": "code",
   "execution_count": 3,
   "id": "3c3015c5",
   "metadata": {},
   "outputs": [
    {
     "name": "stdout",
     "output_type": "stream",
     "text": [
      "Limit: -1\n"
     ]
    }
   ],
   "source": [
    "limit_expr = limit(expr, x, -oo)\n",
    "print(f'Limit: {limit_expr}')"
   ]
  },
  {
   "cell_type": "markdown",
   "id": "1bdfb642",
   "metadata": {},
   "source": [
    "2. $\\displaystyle\\lim_{n\\to+\\infty}\\frac{(-6)^n-5^{n+1}}{5^n-(-6)^{n+1}} =\n",
    "    \\lim_{n\\to+\\infty}\\frac{(-6)^n/(-6)^{n+1}-5^{n+1}/(-6)^{n+1}}{5^n/(-6)^{n+1}-1} =\n",
    "    \\lim_{n\\to+\\infty}\\frac{-\\frac{1}{6}-(-\\frac{5}{6})^{n+1}}{-\\frac{1}{6}(-\\frac{5}{6})^n-1} =$\n",
    "    \n",
    "   $\\displaystyle= \\lim_{n\\to+\\infty}\\frac{1+6(-\\frac{5}{6})^{n+1}}{(-\\frac{5}{6})^n+6} = \n",
    "    \\lim_{n\\to+\\infty}\\frac{1+0}{0+6} = \n",
    "    \\frac{1}{6}$"
   ]
  },
  {
   "cell_type": "code",
   "execution_count": 4,
   "id": "d3cafe37",
   "metadata": {},
   "outputs": [
    {
     "name": "stdout",
     "output_type": "stream",
     "text": [
      "Expressions: \n",
      "(6*0.833333333333333**(n + 1) + 1)/(6 - 0.833333333333333**n), \n",
      "(1 - 6*0.833333333333333**(n + 1))/(0.833333333333333**n + 6)\n"
     ]
    }
   ],
   "source": [
    "n = symbols('n')\n",
    "expr_1 = (1 + 6*pow(5/6,n+1))/(-pow(5/6,n)+6)\n",
    "expr_2 = (1 - 6*pow(5/6,n+1))/(pow(5/6,n)+6)\n",
    "print(f'Expressions: \\n{expr_1}, \\n{expr_2}')"
   ]
  },
  {
   "cell_type": "code",
   "execution_count": 5,
   "id": "9a1f7019",
   "metadata": {},
   "outputs": [
    {
     "name": "stdout",
     "output_type": "stream",
     "text": [
      "Limits: \n",
      "1/6, \n",
      "1/6\n"
     ]
    }
   ],
   "source": [
    "limit_expr_1 = limit(expr_1, n, +oo)\n",
    "limit_expr_2 = limit(expr_2, n, +oo)\n",
    "print(f'Limits: \\n{limit_expr_1}, \\n{limit_expr_2}')"
   ]
  },
  {
   "cell_type": "markdown",
   "id": "17c25c20",
   "metadata": {},
   "source": [
    "3. $\\displaystyle\\lim_{n\\to+\\infty}\\frac{1}{n^3}\\sum_{k=1}^n{k(k+1)} = \n",
    "    \\lim_{n\\to+\\infty}\\frac{1}{n^3}(\\frac{n^3}{3}+n^2+\\frac{2}{3}n) = \n",
    "    \\lim_{n\\to+\\infty}\\frac{1}{3}+\\frac{1}{n}+\\frac{2}{3}\\frac{1}{n^2} =\n",
    "    \\frac{1}{3}$"
   ]
  },
  {
   "cell_type": "code",
   "execution_count": 6,
   "id": "88211347",
   "metadata": {},
   "outputs": [
    {
     "name": "stdout",
     "output_type": "stream",
     "text": [
      "Expressions: \n",
      "(n**3/3 + n**2 + 2*n/3)/n**3\n"
     ]
    }
   ],
   "source": [
    "k = symbols('k')\n",
    "expr = Sum(k*(k+1),(k,1,n)).doit()/pow(n,3)\n",
    "print(f'Expressions: \\n{expr}')"
   ]
  },
  {
   "cell_type": "code",
   "execution_count": 7,
   "id": "c06ce94b",
   "metadata": {},
   "outputs": [
    {
     "name": "stdout",
     "output_type": "stream",
     "text": [
      "Limit: 1/3\n"
     ]
    }
   ],
   "source": [
    "limit_expr = limit(expr, n, +oo)\n",
    "print(f'Limit: {limit_expr}')"
   ]
  },
  {
   "cell_type": "markdown",
   "id": "a148f24a",
   "metadata": {},
   "source": [
    "4. $\\displaystyle\\lim_{n\\to+\\infty}\\frac{1}{n}\\sqrt[n]{(n+1)(n+2)\\cdot\\dotsm\\cdot2n} =\n",
    "    \\lim_{n\\to+\\infty}\\frac{1}{n}\\sqrt[n]{\\frac{(2n)!}{n!}} {=}^{*^1} \n",
    "    \\lim_{n\\to+\\infty}\\frac{1}{n}\\sqrt[n]{\\frac{\\sqrt{4\\pi n}*(\\frac{2n}{e})^{2n}}{\\sqrt{2\\pi n}*(\\frac{n}{e})^{n}}} =\n",
    "    \\lim_{n\\to+\\infty}\\frac{1}{n}\\sqrt[n]{{4^n}\\sqrt{2}(\\frac{n}{e})^{n}} = $\n",
    "    \n",
    "   $\\displaystyle\\lim_{n\\to+\\infty}\\frac{4}{e}\\sqrt[n]{\\frac{n^n\\sqrt{2}}{n^n}} = \n",
    "    \\lim_{n\\to+\\infty}\\frac{4}{e}2^{\\frac{1}{n+2}} = \n",
    "    \\frac{4}{e}2^0 = \\frac{4}{e}$\n",
    "    \n",
    "  $*^1$ Формула Стирлинга $\\displaystyle\\lim_{n\\to+\\infty}\\frac{n!}{\\sqrt{2\\pi n}(\\frac{n}{e})^{n}} = 1 \\equiv \n",
    "  n! \\sim_{n\\to+\\infty} \\sqrt{2\\pi n}(\\frac{n}{e})^{n}$"
   ]
  },
  {
   "cell_type": "code",
   "execution_count": 8,
   "id": "76d83106",
   "metadata": {},
   "outputs": [
    {
     "name": "stdout",
     "output_type": "stream",
     "text": [
      "(factorial(2*n)/factorial(n))**(1/n)/n\n"
     ]
    }
   ],
   "source": [
    "expr = pow(factorial(2*n)/factorial(n),1/n)/n\n",
    "print(expr)"
   ]
  },
  {
   "cell_type": "code",
   "execution_count": 9,
   "id": "b96cb32d",
   "metadata": {},
   "outputs": [
    {
     "name": "stdout",
     "output_type": "stream",
     "text": [
      "4*exp(-1)\n"
     ]
    }
   ],
   "source": [
    "limit_expr = limit(expr, n, +oo)\n",
    "print(limit_expr)"
   ]
  },
  {
   "cell_type": "markdown",
   "id": "3d1fca97",
   "metadata": {},
   "source": [
    "##### Задача 2."
   ]
  },
  {
   "cell_type": "markdown",
   "id": "cd367846",
   "metadata": {},
   "source": [
    "Нет, не верно. $\\displaystyle\\lim_{n\\to\\infty}f(x)^x\\geq\\lim_{n\\to\\infty}h(x)^x$"
   ]
  },
  {
   "cell_type": "code",
   "execution_count": 10,
   "id": "9561d90d",
   "metadata": {},
   "outputs": [],
   "source": [
    "def dev_sigmoid(x):\n",
    "    return np.exp(-x)/(1+np.exp(-x))**2"
   ]
  },
  {
   "cell_type": "code",
   "execution_count": 11,
   "id": "b8ec6f31",
   "metadata": {},
   "outputs": [],
   "source": [
    "x = np.linspace(-10, 10, num=1000)"
   ]
  },
  {
   "cell_type": "code",
   "execution_count": 12,
   "id": "9cde6bbd",
   "metadata": {},
   "outputs": [
    {
     "data": {
      "image/png": "[encoded data removed]",
      "text/plain": [
       "<Figure size 800x400 with 1 Axes>"
      ]
     },
     "metadata": {},
     "output_type": "display_data"
    }
   ],
   "source": [
    "fig, ax = plt.subplots(1,1,figsize=(10,5), dpi= 80)\n",
    "ax.plot(x, dev_sigmoid(x), color='blue', label='f(x)=sigmoid`(x)')\n",
    "ax.plot(x, -dev_sigmoid(x), color='green', label='g(x)-sigmoid`(x)')\n",
    "ax.autoscale(enable=True, axis=1, tight=None)\n",
    "ax.legend()\n",
    "ax.grid()"
   ]
  },
  {
   "cell_type": "code",
   "execution_count": 13,
   "id": "d59f7420",
   "metadata": {},
   "outputs": [
    {
     "name": "stdout",
     "output_type": "stream",
     "text": [
      "Functions: \n",
      " g=-exp(-x)/(1 + exp(-x))**2, f=exp(-x)/(1 + exp(-x))**2\n",
      "Expressions: \n",
      " g=(-exp(-x)/(1 + exp(-x))**2)**x, f=(exp(-x)/(1 + exp(-x))**2)**x\n",
      "lim g^x=0=0=lim f^x\n"
     ]
    }
   ],
   "source": [
    "x = symbols('x')\n",
    "f = exp(-x)/(1+exp(-x))**2\n",
    "g = -exp(-x)/(1+exp(-x))**2\n",
    "expr_f = f**x\n",
    "expr_g = g**x\n",
    "\n",
    "print(f'Functions: \\n g={g}, f={f}')\n",
    "print(f'Expressions: \\n g={expr_g}, f={expr_f}')\n",
    "print(f'lim g^x={limit(expr_g,x,oo)}={limit(expr_f,x,oo)}=lim f^x')"
   ]
  },
  {
   "cell_type": "markdown",
   "id": "ca79c952",
   "metadata": {},
   "source": [
    "##### Задача 3."
   ]
  },
  {
   "cell_type": "markdown",
   "id": "0b89139b",
   "metadata": {},
   "source": [
    "$\\sqsupset r(x)=\\sin(x),$\n",
    "\n",
    "$\\quad p(x)=\\cos(x),$\n",
    "\n",
    "$\\quad q(x)=\\cos^2(x)+\\sin^2(x)$"
   ]
  },
  {
   "cell_type": "code",
   "execution_count": 14,
   "id": "5e10b2cc",
   "metadata": {},
   "outputs": [],
   "source": [
    "x = symbols('x')\n",
    "r = symbols('r')\n",
    "p = symbols('p')\n",
    "q = symbols('q')\n",
    "r = sin(x)\n",
    "p = cos(x)\n",
    "q = cos(x)**2 + sin(x)**2"
   ]
  },
  {
   "cell_type": "code",
   "execution_count": 15,
   "id": "3987b3f4",
   "metadata": {},
   "outputs": [],
   "source": [
    "left = r*sin(x)+p*cos(x)\n",
    "right = q"
   ]
  },
  {
   "cell_type": "code",
   "execution_count": 16,
   "id": "9ab4ccd0",
   "metadata": {},
   "outputs": [
    {
     "data": {
      "text/plain": [
       "True"
      ]
     },
     "execution_count": 16,
     "metadata": {},
     "output_type": "execute_result"
    }
   ],
   "source": [
    "left==right"
   ]
  },
  {
   "cell_type": "code",
   "execution_count": 17,
   "id": "0b5f42ae",
   "metadata": {},
   "outputs": [
    {
     "name": "stdout",
     "output_type": "stream",
     "text": [
      "The derivatives of both parts of the equality coincide.\n"
     ]
    }
   ],
   "source": [
    "left_diff = Derivative(left, x).doit()\n",
    "right_diff = Derivative(right, x).doit()\n",
    "if left_diff == right_diff:\n",
    "    print('The derivatives of both parts of the equality coincide.')\n",
    "else:\n",
    "    print('The derivatives are different.')"
   ]
  },
  {
   "cell_type": "code",
   "execution_count": 18,
   "id": "389a8baf",
   "metadata": {},
   "outputs": [],
   "source": [
    "x = np.linspace(-np.pi, np.pi, num=1000)\n",
    "y = np.sin(x)**2+np.cos(x)**2"
   ]
  },
  {
   "cell_type": "code",
   "execution_count": 19,
   "id": "5854fb45",
   "metadata": {},
   "outputs": [
    {
     "data": {
      "image/png": "[encoded data removed]",
      "text/plain": [
       "<Figure size 1280x720 with 1 Axes>"
      ]
     },
     "metadata": {},
     "output_type": "display_data"
    }
   ],
   "source": [
    "fig, ax = plt.subplots(1,1,figsize=(16,9), dpi= 80)\n",
    "ax.plot(x, np.sin(x), color='blue', label='r(x)=sin(x)')\n",
    "ax.plot(x, np.cos(x), color='green', label='p(x)=cos(x)')\n",
    "ax.plot(x, y, color='tab:red', label='g(x)=sin(x)^2+cos(x)^2')\n",
    "ax.autoscale(enable=True, axis=1, tight=None)\n",
    "ax.legend()\n",
    "ax.grid()"
   ]
  },
  {
   "cell_type": "markdown",
   "id": "f6083338",
   "metadata": {},
   "source": [
    "##### Задача 4."
   ]
  },
  {
   "cell_type": "code",
   "execution_count": 20,
   "id": "078c487a",
   "metadata": {},
   "outputs": [
    {
     "name": "stdout",
     "output_type": "stream",
     "text": [
      "f(x)=x/(x**2 + 1)**2\n"
     ]
    }
   ],
   "source": [
    "x = symbols('x')\n",
    "f = x / (1 + x**2)**2\n",
    "print(f'f(x)={f}')"
   ]
  },
  {
   "cell_type": "markdown",
   "id": "9cfff075",
   "metadata": {},
   "source": [
    "ряд Маклорена:\n",
    "\n",
    "$\\displaystyle f(x)=f(0)+\\frac{f'(0)}{1!}x+\\frac{f'(0)}{2!}x^2+\\dotsb=\\sum_{n=0}^{\\infty} \\frac{f^{(n)}(0)}{n!}x^n$"
   ]
  },
  {
   "cell_type": "code",
   "execution_count": 21,
   "id": "86321471",
   "metadata": {},
   "outputs": [
    {
     "name": "stdout",
     "output_type": "stream",
     "text": [
      "f`(x)=-4*x**2/(x**2 + 1)**3 + (x**2 + 1)**(-2)\n",
      "f``(x)=24*x**3/(x**2 + 1)**4 - 12*x/(x**2 + 1)**3\n",
      "f```(x)=-192*x**4/(x**2 + 1)**5 + 144*x**2/(x**2 + 1)**4 - 12/(x**2 + 1)**3\n",
      "f_4(x)=1920*x**5/(x**2 + 1)**6 - 1920*x**3/(x**2 + 1)**5 + 360*x/(x**2 + 1)**4\n",
      "f_5(x)=-23040*x**6/(x**2 + 1)**7 + 28800*x**4/(x**2 + 1)**6 - 8640*x**2/(x**2 + 1)**5 + 360/(x**2 + 1)**4\n",
      "f_6(x)=322560*x**7/(x**2 + 1)**8 - 483840*x**5/(x**2 + 1)**7 + 201600*x**3/(x**2 + 1)**6 - 20160*x/(x**2 + 1)**5\n",
      "f_7(x)=-5160960*x**8/(x**2 + 1)**9 + 9031680*x**6/(x**2 + 1)**8 - 4838400*x**4/(x**2 + 1)**7 + 806400*x**2/(x**2 + 1)**6 - 20160/(x**2 + 1)**5\n"
     ]
    }
   ],
   "source": [
    "f_diff_1 = Derivative(f, x).doit()\n",
    "print(f'f`(x)={f_diff_1}')\n",
    "f_diff_2 = Derivative(f_diff_1, x).doit()\n",
    "print(f'f``(x)={f_diff_2}')\n",
    "f_diff_3 = Derivative(f_diff_2, x).doit()\n",
    "print(f'f```(x)={f_diff_3}')\n",
    "f_diff_4 = Derivative(f_diff_3, x).doit()\n",
    "print(f'f_4(x)={f_diff_4}')\n",
    "f_diff_5 = Derivative(f_diff_4, x).doit()\n",
    "print(f'f_5(x)={f_diff_5}')\n",
    "f_diff_6 = Derivative(f_diff_5, x).doit()\n",
    "print(f'f_6(x)={f_diff_6}')\n",
    "f_diff_7 = Derivative(f_diff_6, x).doit()\n",
    "print(f'f_7(x)={f_diff_7}')"
   ]
  },
  {
   "cell_type": "code",
   "execution_count": 22,
   "id": "1e87b1d5",
   "metadata": {},
   "outputs": [
    {
     "name": "stdout",
     "output_type": "stream",
     "text": [
      "1, 0, -2, 0, 3, 0, -4\n"
     ]
    }
   ],
   "source": [
    "print(f'{f_diff_1.subs(Symbol(\"x\"), 0)/factorial(1)}, {f_diff_2.subs(Symbol(\"x\"), 0)/factorial(2)},'\n",
    "      f' {f_diff_3.subs(Symbol(\"x\"), 0)/factorial(3)}, {f_diff_4.subs(Symbol(\"x\"), 0)//factorial(4)},'\n",
    "      f' {f_diff_5.subs(Symbol(\"x\"), 0)//factorial(5)}, {f_diff_6.subs(Symbol(\"x\"), 0)//factorial(6)},'\n",
    "      f' {f_diff_7.subs(Symbol(\"x\"), 0)//factorial(7)}')"
   ]
  },
  {
   "cell_type": "code",
   "execution_count": 23,
   "id": "e2448a07",
   "metadata": {},
   "outputs": [
    {
     "data": {
      "text/latex": [
       "$\\displaystyle x - 2 x^{3} + 3 x^{5} - 4 x^{7} + O\\left(x^{8}\\right)$"
      ],
      "text/plain": [
       "x - 2*x**3 + 3*x**5 - 4*x**7 + O(x**8)"
      ]
     },
     "execution_count": 23,
     "metadata": {},
     "output_type": "execute_result"
    }
   ],
   "source": [
    "series(f, x, 0, 8, \"+\")"
   ]
  },
  {
   "cell_type": "markdown",
   "id": "caf01bd9",
   "metadata": {},
   "source": [
    "$\\displaystyle \\frac{x}{(x^2+1)^2} = \\sum_{n=0}^{\\infty} (-1)^{n+1}nx^{2n-1}$"
   ]
  },
  {
   "cell_type": "markdown",
   "id": "43d52589",
   "metadata": {},
   "source": [
    "##### Задача 5."
   ]
  },
  {
   "cell_type": "markdown",
   "id": "343f7cb8",
   "metadata": {},
   "source": [
    "При рассмотрении сходимости ряда $\\displaystyle \\sum_{n=1}^{+\\infty} \\ln\\frac{n^2+1}{n^2+n+1}$ в первом случае в знаменателе отбросили $n$, чего нельзя было делать так как только отбрасывание конечного числа членов ряда (или добавление конечного числа новых) не влияет на сходимость или расходимость ряда. В связи с этим была допущена ошибка, которая привела к сходимости данного ряда. Во втором же случае рассуждения верные. Этим и вызвано различие в ответах."
   ]
  },
  {
   "cell_type": "code",
   "execution_count": 24,
   "id": "600fc365",
   "metadata": {},
   "outputs": [],
   "source": [
    "series = Sum(ln((n**2 + 1)/(n**2+n+1)),(n,1,+oo))"
   ]
  },
  {
   "cell_type": "code",
   "execution_count": 25,
   "id": "cd230ee6",
   "metadata": {},
   "outputs": [
    {
     "data": {
      "text/latex": [
       "$\\displaystyle \\sum_{n=1}^{\\infty} \\log{\\left(\\frac{n^{2} + 1}{n^{2} + n + 1} \\right)}$"
      ],
      "text/plain": [
       "Sum(log((n**2 + 1)/(n**2 + n + 1)), (n, 1, oo))"
      ]
     },
     "execution_count": 25,
     "metadata": {},
     "output_type": "execute_result"
    }
   ],
   "source": [
    "series.doit()"
   ]
  },
  {
   "cell_type": "code",
   "execution_count": 26,
   "id": "389bc4fb",
   "metadata": {},
   "outputs": [
    {
     "data": {
      "text/latex": [
       "$\\displaystyle \\text{False}$"
      ],
      "text/plain": [
       "False"
      ]
     },
     "execution_count": 26,
     "metadata": {},
     "output_type": "execute_result"
    }
   ],
   "source": [
    "series.is_convergent()"
   ]
  },
  {
   "cell_type": "markdown",
   "id": "797194f1",
   "metadata": {},
   "source": [
    "##### Задача 6."
   ]
  },
  {
   "cell_type": "markdown",
   "id": "cb683eaa",
   "metadata": {},
   "source": [
    "$\\int (1+x+x\\ln x)x^x\\mathrm{d}x=\\int x^x\\mathrm{d}x+\\int x^{x+1}\\mathrm{d}x+\\int x^{x+1}\\ln x\\mathrm{d}x=\n",
    "x^{x+1}+\\int x^{x+1}(\\ln x+1)\\mathrm{d}x = x^{x+1}+C$"
   ]
  },
  {
   "cell_type": "code",
   "execution_count": 27,
   "id": "89744744",
   "metadata": {},
   "outputs": [
    {
     "data": {
      "text/latex": [
       "$\\displaystyle x x^{x}$"
      ],
      "text/plain": [
       "x*x**x"
      ]
     },
     "execution_count": 27,
     "metadata": {},
     "output_type": "execute_result"
    }
   ],
   "source": [
    "x = Symbol('x')\n",
    "\n",
    "integrate((1 + x + x*ln(x))*x**x, x)"
   ]
  },
  {
   "cell_type": "markdown",
   "id": "562b12df",
   "metadata": {},
   "source": [
    "##### Задача 7."
   ]
  },
  {
   "cell_type": "markdown",
   "id": "f4e98be9",
   "metadata": {},
   "source": [
    "$\\displaystyle\\int_{0}^{\\pi} \\sin(x)\\sin(nx)\\mathrm{d}x$"
   ]
  },
  {
   "cell_type": "code",
   "execution_count": 28,
   "id": "2008d466",
   "metadata": {},
   "outputs": [
    {
     "data": {
      "text/latex": [
       "$\\displaystyle \\begin{cases} - \\frac{x \\sin^{2}{\\left(x \\right)}}{2} - \\frac{x \\cos^{2}{\\left(x \\right)}}{2} + \\frac{\\sin{\\left(x \\right)} \\cos{\\left(x \\right)}}{2} & \\text{for}\\: n = -1 \\\\\\frac{x \\sin^{2}{\\left(x \\right)}}{2} + \\frac{x \\cos^{2}{\\left(x \\right)}}{2} - \\frac{\\sin{\\left(x \\right)} \\cos{\\left(x \\right)}}{2} & \\text{for}\\: n = 1 \\\\- \\frac{n \\sin{\\left(x \\right)} \\cos{\\left(n x \\right)}}{n^{2} - 1} + \\frac{\\sin{\\left(n x \\right)} \\cos{\\left(x \\right)}}{n^{2} - 1} & \\text{otherwise} \\end{cases}$"
      ],
      "text/plain": [
       "Piecewise((-x*sin(x)**2/2 - x*cos(x)**2/2 + sin(x)*cos(x)/2, Eq(n, -1)), (x*sin(x)**2/2 + x*cos(x)**2/2 - sin(x)*cos(x)/2, Eq(n, 1)), (-n*sin(x)*cos(n*x)/(n**2 - 1) + sin(n*x)*cos(x)/(n**2 - 1), True))"
      ]
     },
     "execution_count": 28,
     "metadata": {},
     "output_type": "execute_result"
    }
   ],
   "source": [
    "integrate(sin(x)*sin(n*x),x).doit()"
   ]
  },
  {
   "cell_type": "code",
   "execution_count": 29,
   "id": "d363277e",
   "metadata": {},
   "outputs": [
    {
     "data": {
      "text/latex": [
       "$\\displaystyle \\begin{cases} - \\frac{\\pi}{2} & \\text{for}\\: n = -1 \\\\\\frac{\\pi}{2} & \\text{for}\\: n = 1 \\\\- \\frac{\\sin{\\left(\\pi n \\right)}}{n^{2} - 1} & \\text{otherwise} \\end{cases}$"
      ],
      "text/plain": [
       "Piecewise((-pi/2, Eq(n, -1)), (pi/2, Eq(n, 1)), (-sin(pi*n)/(n**2 - 1), True))"
      ]
     },
     "execution_count": 29,
     "metadata": {},
     "output_type": "execute_result"
    }
   ],
   "source": [
    "integrate(sin(x)*sin(n*x), x).subs(Symbol(\"x\"), pi)-integrate(sin(x)*sin(n*x), x).subs(Symbol(\"x\"), 0)"
   ]
  },
  {
   "cell_type": "markdown",
   "id": "661eac17",
   "metadata": {},
   "source": [
    "### Часть II. Комбинаторика и теоретико-числовые методы"
   ]
  },
  {
   "cell_type": "markdown",
   "id": "60cdf166",
   "metadata": {},
   "source": [
    "##### Задача 1."
   ]
  },
  {
   "cell_type": "code",
   "execution_count": 30,
   "id": "ad45c48b",
   "metadata": {},
   "outputs": [],
   "source": [
    "def binary(n, k):\n",
    "    if k == 0:  # no bits set\n",
    "        yield '0' * n\n",
    "    elif n == k:  # all bits set\n",
    "        yield '1' * k\n",
    "    else:\n",
    "        assert n > k > 0\n",
    "        for bits in binary(n - 1, k):\n",
    "            yield '0' + bits\n",
    "        for bits in binary(n - 1, k - 1):\n",
    "            yield '1' + bits"
   ]
  },
  {
   "cell_type": "code",
   "execution_count": 31,
   "id": "771d38ce",
   "metadata": {},
   "outputs": [
    {
     "name": "stdout",
     "output_type": "stream",
     "text": [
      "5\n",
      "0 0 1 1 1 1 1\n",
      "0 1 0 1 1 1 1\n",
      "0 1 1 0 1 1 1\n",
      "0 1 1 1 0 1 1\n",
      "0 1 1 1 1 0 1\n",
      "0 1 1 1 1 1 0\n",
      "1 0 0 1 1 1 1\n",
      "1 0 1 0 1 1 1\n",
      "1 0 1 1 0 1 1\n",
      "1 0 1 1 1 0 1\n",
      "1 0 1 1 1 1 0\n",
      "1 1 0 0 1 1 1\n",
      "1 1 0 1 0 1 1\n",
      "1 1 0 1 1 0 1\n",
      "1 1 0 1 1 1 0\n",
      "1 1 1 0 0 1 1\n",
      "1 1 1 0 1 0 1\n",
      "1 1 1 0 1 1 0\n",
      "1 1 1 1 0 0 1\n",
      "1 1 1 1 0 1 0\n",
      "1 1 1 1 1 0 0\n"
     ]
    }
   ],
   "source": [
    "m = 7\n",
    "k = 2\n",
    "l = int(m/k)*(k-1)+m%k+1\n",
    "print(l)\n",
    "for bits in binary(m, l):\n",
    "    print(*bits)"
   ]
  },
  {
   "cell_type": "markdown",
   "id": "58e27690",
   "metadata": {},
   "source": [
    "Минимальное количество единиц, которые должна содержать последовательность бит длины $n$, чтобы при этом обязательно нашлась подпоследовательность из m идущих подряд единиц равна: $[n/m]\\cdot(m-1)+\\{n/m\\}+1$"
   ]
  },
  {
   "cell_type": "markdown",
   "id": "a5b7982a",
   "metadata": {},
   "source": [
    "##### Задача 2."
   ]
  },
  {
   "cell_type": "markdown",
   "id": "1bbf9551",
   "metadata": {},
   "source": [
    "Из условие задачи следует, что надо выбират только четное число чисел. Т.е. 2, 4 и 6.Если выбирать шесть чисел, то три нечётных числа могут выбраны $C^3_{50}$ способами и три чётных числа так же $C^3_{50}$. Анологично в остальных случаях. Следовательно ответ $\\displaystyle\\sum_{k=2,4,6} (C^{\\frac{k}{2}}_{50})^2$"
   ]
  },
  {
   "cell_type": "markdown",
   "id": "7ffdafce",
   "metadata": {},
   "source": [
    "##### Задача 3."
   ]
  },
  {
   "cell_type": "markdown",
   "id": "9b97d11c",
   "metadata": {},
   "source": [
    "1. Максимальное число ребер, которое можно удалить из $G_n$, чтобы граф остался связным равно $\\displaystyle\\frac{n(n-1)}{2}-(n-1)=\\frac{(n-1)(n-2)}{2}$, соответсвенно для $G_{101}$ их количество равно $4950$."
   ]
  },
  {
   "cell_type": "markdown",
   "id": "fb2e6045",
   "metadata": {},
   "source": [
    "2. Число рёбер в полном двудольном графе равно $n_1\\cdot n_2,\\quad n_1+n_2=n$"
   ]
  },
  {
   "cell_type": "code",
   "execution_count": 32,
   "id": "33eabb08",
   "metadata": {},
   "outputs": [],
   "source": [
    "def max_edges(n):\n",
    "    mul = 0\n",
    "    for n_1 in range(1,n//2+1):\n",
    "        temp = (n-n_1)*n_1\n",
    "        if temp > mul:\n",
    "            mul = temp\n",
    "            mul_n_1 = n_1\n",
    "    return mul_n_1, n-mul_n_1\n",
    "def num_edges(n):\n",
    "    n_1, n_2 = max_edges(n)\n",
    "    return int(n*(n-1)/2)-n_1*n_2"
   ]
  },
  {
   "cell_type": "code",
   "execution_count": 33,
   "id": "2fc249d0",
   "metadata": {},
   "outputs": [
    {
     "name": "stdout",
     "output_type": "stream",
     "text": [
      "2500\n"
     ]
    }
   ],
   "source": [
    "print(num_edges(101))"
   ]
  },
  {
   "cell_type": "markdown",
   "id": "d1f59666",
   "metadata": {},
   "source": [
    "Минимальное число ребер, которое можно удалить из $G_{101}$, чтобы граф стал двудольным равно \n",
    "$\\displaystyle\\frac{n(n-1)}{2}-n_1\\cdot n_2=2500$."
   ]
  },
  {
   "cell_type": "markdown",
   "id": "6000ed59",
   "metadata": {},
   "source": [
    "##### Задача 4."
   ]
  },
  {
   "cell_type": "markdown",
   "id": "847370f0",
   "metadata": {},
   "source": [
    "$\\sphericalangle\\quad f(n)=(n-1)^{n-1}+n^n+(n+1)^{n+1}, \\quad\\rceil n\\vdots3\\implies n^n\\vdots3$\n",
    "\n",
    "Распишем через бином Ньютона $(n-1)^{n-1}$ и $(n+1)^{n+1}$:\n",
    "\n",
    "$\\displaystyle(n-1)^{n-1}=\\sum_{k=0}^{n-1} C^{k}_{n-1}n^k\\cdot(-1)^{n-1-k}=(-1)^{n-1}+\\sum_{k=1}^{n-1} C^{k}_{n-1}n^k\\cdot(-1)^{n-1-k}\\equiv(-1)^{n-1}\\mod3$, т.к. $n\\vdots3$\n",
    "\n",
    "$\\displaystyle(n+1)^{n+1}=\\sum_{k=0}^{n+1} C^{k}_{n+1}n^k\\cdot1^{n+1-k}=1+\\sum_{k=1}^{n+1} C^{k}_{n+1}n^k\\equiv1\\mod3$, т.к. $n\\vdots3$\n",
    "\n",
    "$\\displaystyle f(n) = (-1)^{n-1}+\\sum_{k=1}^{n-1} C^{k}_{n-1}n^k\\cdot(-1)^{n-1-k}+n^n+1+\\sum_{k=1}^{n+1} C^{k}_{n+1}n^k\\equiv1+(-1)^{n-1}\\mod3$\n",
    "\n"
   ]
  },
  {
   "cell_type": "markdown",
   "id": "86e87483",
   "metadata": {},
   "source": [
    "$f(777)\\equiv1+(-1)^{777-1}mod3$\n",
    "\n",
    "$f(777)\\equiv2mod3$\n",
    "\n",
    "Следовательно $f(777)=776^{776}+777^{777}+778^{778}$ не делится нацело на 3."
   ]
  },
  {
   "cell_type": "markdown",
   "id": "ef35709e",
   "metadata": {},
   "source": [
    "##### Задача 5."
   ]
  },
  {
   "cell_type": "markdown",
   "id": "afbe616a",
   "metadata": {},
   "source": [
    "$\\displaystyle\\sum_{k=1}^n{k(k+1)} = (\\frac{n^3}{3}+n^2+\\frac{2}{3}n)$"
   ]
  },
  {
   "cell_type": "markdown",
   "id": "e729b88f",
   "metadata": {},
   "source": [
    "$n=999$\n",
    "\n",
    "$\\frac{n^3}{3}$ на конце 3, \n",
    "\n",
    "$n^2$ на конце 1, \n",
    "\n",
    "$\\frac{2}{3}n$ на конце 6\n",
    "\n",
    "Следовательно 3+1+6=10 на конце 0"
   ]
  },
  {
   "cell_type": "code",
   "execution_count": 34,
   "id": "9be2eae6",
   "metadata": {},
   "outputs": [
    {
     "data": {
      "text/latex": [
       "$\\displaystyle 333333000$"
      ],
      "text/plain": [
       "333333000"
      ]
     },
     "execution_count": 34,
     "metadata": {},
     "output_type": "execute_result"
    }
   ],
   "source": [
    "k=Symbol('k')\n",
    "Sum(k*(k+1),(k,1,999)).doit()"
   ]
  },
  {
   "cell_type": "markdown",
   "id": "de82d5a6",
   "metadata": {},
   "source": [
    "##### Задача 6."
   ]
  },
  {
   "cell_type": "markdown",
   "id": "cae9b9ff",
   "metadata": {},
   "source": [
    "$(n^{100} − 1)^{100}(n^{101} + 1)^{101}\\equiv(-1)^{100}\\cdot1^{101}=1\\mod n$"
   ]
  },
  {
   "cell_type": "markdown",
   "id": "e343803a",
   "metadata": {},
   "source": [
    "Следовательно нужно прибавить или $(-1)$ или $(n-1)$"
   ]
  },
  {
   "cell_type": "markdown",
   "id": "83891549",
   "metadata": {},
   "source": [
    "##### Задача 7."
   ]
  },
  {
   "cell_type": "markdown",
   "id": "d515f8ed",
   "metadata": {},
   "source": [
    "$5\\cdot2^{3n-2}+3^{3n-1}=5\\cdot2^{3(n-1)+1}+3^{3(n-1)+2}=10\\cdot8^{n-1}+9\\cdot27^{n-1}=(19-9)\\cdot8^{n-1}+9\\cdot27^{n-1}=$\n",
    "$=19\\cdot8^{n-1}+9\\cdot(27^{n-1}-8^{n-1})=19\\cdot8^{n-1}+9\\cdot19\\cdot(27^{n-2}+\\cdots+8^{n-2})\\equiv0\\mod19$"
   ]
  },
  {
   "cell_type": "markdown",
   "id": "809d7a72",
   "metadata": {},
   "source": [
    "##### Задача 8."
   ]
  },
  {
   "cell_type": "markdown",
   "id": "1a87dd1d",
   "metadata": {},
   "source": [
    "$x=97^{256}\\mod{765}$"
   ]
  },
  {
   "cell_type": "markdown",
   "id": "a8b48e40",
   "metadata": {},
   "source": [
    "Для решения задачи воспользуемся алгоритмом быстрого возведения в степень по модулю."
   ]
  },
  {
   "cell_type": "code",
   "execution_count": 35,
   "id": "b14b1679",
   "metadata": {},
   "outputs": [],
   "source": [
    "import re\n",
    "\n",
    "def dec_to_bin_inverted(degree):\n",
    "    b = [int(i) for i in list(re.split('0b', bin(degree))[1])][::-1]\n",
    "    return b, len(b)\n",
    "\n",
    "\n",
    "def equation_solution(a_0, degree, mod):\n",
    "    a = [a_0]\n",
    "    b, len_b = dec_to_bin_inverted(degree)\n",
    "    for i in range(len_b-1):\n",
    "        a_i = (a[i]**2)%mod\n",
    "        a.append(a_i)\n",
    "    return sum([a*b for a, b in zip(a, b)])"
   ]
  },
  {
   "cell_type": "code",
   "execution_count": 36,
   "id": "2f1e0eff",
   "metadata": {},
   "outputs": [
    {
     "data": {
      "text/plain": [
       "([0, 0, 0, 0, 0, 0, 0, 0, 1], 9)"
      ]
     },
     "execution_count": 36,
     "metadata": {},
     "output_type": "execute_result"
    }
   ],
   "source": [
    "dec_to_bin_inverted(256)\n"
   ]
  },
  {
   "cell_type": "code",
   "execution_count": 37,
   "id": "c9a0b206",
   "metadata": {},
   "outputs": [
    {
     "name": "stdout",
     "output_type": "stream",
     "text": [
      "x=511\n"
     ]
    }
   ],
   "source": [
    "print(f'x={equation_solution(97, 256, 765)}')"
   ]
  },
  {
   "cell_type": "markdown",
   "id": "9aad899c",
   "metadata": {},
   "source": [
    "#### Задача 9."
   ]
  },
  {
   "cell_type": "markdown",
   "id": "ddb97360",
   "metadata": {},
   "source": [
    "$n=p_1^{\\alpha}\\cdot p_2^{\\beta}\\cdot p_3^{\\gamma}$\n",
    "\n",
    "$\\displaystyle1080\\cdot n=1463\\cdot\\varphi(n)$\n",
    "\n",
    "$\\displaystyle1080\\cdot\\not{n}=1463\\cdot\\not{n}\\cdot(1-\\frac{1}{p_1})\\cdot(1-\\frac{1}{p_2})\\cdot\\dotsm\\cdot(1-\\frac{1}{p_k})$\n",
    "\n",
    "$\\displaystyle\\frac{(p_1-1)\\cdot(p_2-1)\\cdot\\dotsm\\cdot(p_k-1)}{p_1\\cdot p_2\\cdot\\dotsm\\cdot p_k}=\\frac{1080}{1463}$\n",
    "\n",
    "$\\displaystyle\\frac{(p_1-1)\\cdot(p_2-1)\\cdot\\dotsm\\cdot(p_k-1)}{p_1\\cdot p_2\\cdot\\dotsm\\cdot p_k}=\\frac{6\\cdot10\\cdot18}{7\\cdot11\\cdot19}\\implies p_1=7,\\quad p_2=11,\\quad p_3=19$"
   ]
  },
  {
   "cell_type": "code",
   "execution_count": 38,
   "id": "b40e9ea5",
   "metadata": {},
   "outputs": [],
   "source": [
    "def calc_n(p_1, p_2, p_3, s):\n",
    "    n, n_index = [], []\n",
    "    for alpha in range(1,4):\n",
    "        for beta in range(1,4):\n",
    "            for gamma in range(1,4):\n",
    "                n.append([p_1**alpha*p_2**beta*p_3**gamma, (alpha, beta, gamma)])\n",
    "    n.sort(key = lambda row: row[0])\n",
    "    for i, elem in enumerate(n):\n",
    "        n_index.append([i+1,elem])\n",
    "    return n_index[s-1]"
   ]
  },
  {
   "cell_type": "code",
   "execution_count": 39,
   "id": "872b8df9",
   "metadata": {},
   "outputs": [],
   "source": [
    "answer = calc_n(7, 11, 19, 9)"
   ]
  },
  {
   "cell_type": "code",
   "execution_count": 40,
   "id": "f2bad35f",
   "metadata": {},
   "outputs": [
    {
     "name": "stdout",
     "output_type": "stream",
     "text": [
      "s_9=p1^1*p2^2*p3^2=305767\n"
     ]
    }
   ],
   "source": [
    "print(f's_{answer[0]}=p1^{answer[1][1][0]}*p2^{answer[1][1][1]}*p3^{answer[1][1][2]}={answer[1][0]}')"
   ]
  },
  {
   "cell_type": "markdown",
   "id": "71160232",
   "metadata": {},
   "source": [
    "### Часть III. Вычисления"
   ]
  },
  {
   "cell_type": "markdown",
   "id": "676a9bf2",
   "metadata": {},
   "source": [
    "#### Задача 1."
   ]
  },
  {
   "cell_type": "markdown",
   "id": "fc230ae7",
   "metadata": {},
   "source": [
    "$ A_{n\\times n} = \n",
    " \\begin{pmatrix}\n",
    "  \\alpha & \\beta & \\cdots & \\beta \\\\\n",
    "  \\beta & \\alpha & \\cdots & \\beta \\\\\n",
    "  \\vdots  & \\vdots  & \\ddots & \\vdots  \\\\\n",
    "  \\beta & \\beta & \\cdots & \\alpha\n",
    " \\end{pmatrix}$ $,\\quad A^{-1}=?$"
   ]
  },
  {
   "cell_type": "code",
   "execution_count": 41,
   "id": "8db3cde2",
   "metadata": {},
   "outputs": [],
   "source": [
    "# Initialization matrix\n",
    "def init_matrix(n, a, b):\n",
    "    return np.full((n,n), b) - np.eye(n)*(b-a)\n",
    "\n",
    "# Get transpose matrix\n",
    "def transpose_matrix(matrix):\n",
    "    return list(map(list,zip(*matrix)))\n",
    "\n",
    "# Get matrix minor\n",
    "def get_matrix_minor(matrix, i, j):\n",
    "    return [row[:j] + row[j+1:] for row in (matrix[:i] + matrix[i+1:])]\n",
    "\n",
    "# Get matrix determinant\n",
    "def get_matrix_deternminant(matrix):\n",
    "    if len(matrix) == 2:\n",
    "        return matrix[0][0]*matrix[1][1]-matrix[0][1]*matrix[1][0]\n",
    "    determinant = 0\n",
    "    for c in range(len(matrix)):\n",
    "        determinant += ((-1)**c)*matrix[0][c]*get_matrix_deternminant(get_matrix_minor(matrix,0,c))\n",
    "    return determinant\n",
    "\n",
    "# Get inverse matrix\n",
    "def get_inverse_matrix(n, a, b):\n",
    "    matrix = init_matrix(n, a, b).tolist()\n",
    "    determinant = get_matrix_deternminant(matrix)\n",
    "    if len(matrix) == 2:\n",
    "        return [[matrix[1][1]/determinant, -1*matrix[0][1]/determinant],\n",
    "                [-1*matrix[1][0]/determinant, matrix[0][0]/determinant]]\n",
    "    #get cofactors matrix\n",
    "    cofactors = []\n",
    "    for r in range(len(matrix)):\n",
    "        cofactorRow = []\n",
    "        for c in range(len(matrix)):\n",
    "            minor = get_matrix_minor(matrix, r, c)\n",
    "            cofactorRow.append(((-1)**(r+c)) * get_matrix_deternminant(minor))\n",
    "        cofactors.append(cofactorRow)\n",
    "    cofactors = transpose_matrix(cofactors)\n",
    "    for r in range(len(cofactors)):\n",
    "        for c in range(len(cofactors)):\n",
    "            cofactors[r][c] = cofactors[r][c]/determinant\n",
    "    return cofactors"
   ]
  },
  {
   "cell_type": "code",
   "execution_count": 42,
   "id": "053a756c",
   "metadata": {},
   "outputs": [
    {
     "data": {
      "text/plain": [
       "array([[14., 31., 31., 31., 31.],\n",
       "       [31., 14., 31., 31., 31.],\n",
       "       [31., 31., 14., 31., 31.],\n",
       "       [31., 31., 31., 14., 31.],\n",
       "       [31., 31., 31., 31., 14.]])"
      ]
     },
     "execution_count": 42,
     "metadata": {},
     "output_type": "execute_result"
    }
   ],
   "source": [
    "init_matrix(5, 14, 31)"
   ]
  },
  {
   "cell_type": "code",
   "execution_count": 43,
   "id": "f268fa80",
   "metadata": {},
   "outputs": [
    {
     "name": "stdout",
     "output_type": "stream",
     "text": [
      "Wall time: 1e+03 µs\n"
     ]
    },
    {
     "data": {
      "text/plain": [
       "array([[-0.04560955,  0.01321398,  0.01321398,  0.01321398,  0.01321398],\n",
       "       [ 0.01321398, -0.04560955,  0.01321398,  0.01321398,  0.01321398],\n",
       "       [ 0.01321398,  0.01321398, -0.04560955,  0.01321398,  0.01321398],\n",
       "       [ 0.01321398,  0.01321398,  0.01321398, -0.04560955,  0.01321398],\n",
       "       [ 0.01321398,  0.01321398,  0.01321398,  0.01321398, -0.04560955]])"
      ]
     },
     "execution_count": 43,
     "metadata": {},
     "output_type": "execute_result"
    }
   ],
   "source": [
    "%%time\n",
    "np.array(get_inverse_matrix(5, 14, 31))"
   ]
  },
  {
   "cell_type": "code",
   "execution_count": 44,
   "id": "7b8798d8",
   "metadata": {},
   "outputs": [
    {
     "name": "stdout",
     "output_type": "stream",
     "text": [
      "Wall time: 846 µs\n"
     ]
    },
    {
     "data": {
      "text/plain": [
       "array([[-0.04560955,  0.01321398,  0.01321398,  0.01321398,  0.01321398],\n",
       "       [ 0.01321398, -0.04560955,  0.01321398,  0.01321398,  0.01321398],\n",
       "       [ 0.01321398,  0.01321398, -0.04560955,  0.01321398,  0.01321398],\n",
       "       [ 0.01321398,  0.01321398,  0.01321398, -0.04560955,  0.01321398],\n",
       "       [ 0.01321398,  0.01321398,  0.01321398,  0.01321398, -0.04560955]])"
      ]
     },
     "execution_count": 44,
     "metadata": {},
     "output_type": "execute_result"
    }
   ],
   "source": [
    "%%time\n",
    "np.linalg.inv(init_matrix(5, 14, 31))"
   ]
  },
  {
   "cell_type": "markdown",
   "id": "ee92c994",
   "metadata": {},
   "source": [
    "#### Задача 2."
   ]
  },
  {
   "cell_type": "code",
   "execution_count": 45,
   "id": "ff078709",
   "metadata": {},
   "outputs": [
    {
     "name": "stdout",
     "output_type": "stream",
     "text": [
      "     fun: 0.16483667631708415\n",
      " message: '\\nOptimization terminated successfully;\\nThe returned value satisfies the termination criteria\\n(using xtol = 1.48e-08 )'\n",
      "    nfev: 23\n",
      "     nit: 19\n",
      " success: True\n",
      "       x: 0.12585224797201305\n"
     ]
    }
   ],
   "source": [
    "def f(x):\n",
    "    return x + 10**35 * 10**(-(8*x**(0.3) + 0.9*x+32))\n",
    "\n",
    "solution = optimize.minimize_scalar(f)\n",
    "print(solution)"
   ]
  },
  {
   "cell_type": "code",
   "execution_count": 46,
   "id": "978d05b4",
   "metadata": {},
   "outputs": [
    {
     "data": {
      "text/plain": [
       "<matplotlib.legend.Legend at 0x2a7ec178730>"
      ]
     },
     "execution_count": 46,
     "metadata": {},
     "output_type": "execute_result"
    },
    {
     "data": {
      "image/png": "[encoded data removed]",
      "text/plain": [
       "<Figure size 800x600 with 1 Axes>"
      ]
     },
     "metadata": {},
     "output_type": "display_data"
    }
   ],
   "source": [
    "x = np.linspace(0, 10, 1000)\n",
    "\n",
    "fig, ax = plt.subplots(figsize=(8, 6), layout=\"tight\")\n",
    "ax.plot(x, f(x), label=r\"$f(x)$\")\n",
    "ax.scatter(solution.x, solution.fun, color=\"red\", label=\"найденный минимум\")\n",
    "ax.set_xlabel(\"$x$\")\n",
    "ax.set_ylabel(\"$f(x)$\")\n",
    "ax.legend()"
   ]
  },
  {
   "cell_type": "markdown",
   "id": "1c664cff",
   "metadata": {},
   "source": [
    "Для решения задачи, без использования сторонних оптимизаторов, реализуем программный градиентный спуск"
   ]
  },
  {
   "cell_type": "code",
   "execution_count": 47,
   "id": "10227bc2",
   "metadata": {},
   "outputs": [
    {
     "data": {
      "text/latex": [
       "$\\displaystyle 10^{- a x^{1 - b} - g x - s} A + x$"
      ],
      "text/plain": [
       "10**(-a*x**(1 - b) - g*x - s)*A + x"
      ]
     },
     "execution_count": 47,
     "metadata": {},
     "output_type": "execute_result"
    }
   ],
   "source": [
    "x = symbols('x')\n",
    "A = symbols('A')\n",
    "a = symbols('a')\n",
    "b = symbols('b')\n",
    "g = symbols('g')\n",
    "s = symbols('s')\n",
    "\n",
    "f = x + A*10**(-(a*x**(1-b)+g*x+s))\n",
    "f"
   ]
  },
  {
   "cell_type": "code",
   "execution_count": 48,
   "id": "1750a51f",
   "metadata": {},
   "outputs": [
    {
     "data": {
      "text/latex": [
       "$\\displaystyle 10^{- a x^{1 - b} - g x - s} A \\left(- \\frac{a x^{1 - b} \\left(1 - b\\right)}{x} - g\\right) \\log{\\left(10 \\right)} + 1$"
      ],
      "text/plain": [
       "10**(-a*x**(1 - b) - g*x - s)*A*(-a*x**(1 - b)*(1 - b)/x - g)*log(10) + 1"
      ]
     },
     "execution_count": 48,
     "metadata": {},
     "output_type": "execute_result"
    }
   ],
   "source": [
    "f_diff = Derivative(f, x).doit()\n",
    "f_diff"
   ]
  },
  {
   "cell_type": "code",
   "execution_count": 49,
   "id": "7b01c19f",
   "metadata": {},
   "outputs": [
    {
     "name": "stderr",
     "output_type": "stream",
     "text": [
      "\r",
      "  0%|                                                                                            | 0/1 [00:00<?, ?it/s]"
     ]
    },
    {
     "name": "stdout",
     "output_type": "stream",
     "text": [
      "fmin=5.6e+00, iter=49521,A=1.0e+35, a=1, b=0.1, g=0.1, s=28\n",
      "fmin=3.4e+00, iter=46718,A=1.0e+35, a=1, b=0.1, g=0.1, s=30\n",
      "fmin=1.3e+00, iter=38330,A=1.0e+35, a=1, b=0.1, g=0.1, s=32\n",
      "fmin=4.7e+00, iter=39727,A=1.0e+35, a=1, b=0.1, g=0.3, s=28\n",
      "fmin=2.8e+00, iter=37974,A=1.0e+35, a=1, b=0.1, g=0.3, s=30\n",
      "fmin=1.1e+00, iter=32292,A=1.0e+35, a=1, b=0.1, g=0.3, s=32\n",
      "fmin=4.0e+00, iter=33152,A=1.0e+35, a=1, b=0.1, g=0.5, s=28\n",
      "fmin=2.5e+00, iter=32032,A=1.0e+35, a=1, b=0.1, g=0.5, s=30\n",
      "fmin=1.0e+00, iter=27892,A=1.0e+35, a=1, b=0.1, g=0.5, s=32\n",
      "fmin=3.5e+00, iter=28252,A=1.0e+35, a=1, b=0.1, g=0.7, s=28\n",
      "fmin=2.2e+00, iter=27723,A=1.0e+35, a=1, b=0.1, g=0.7, s=30\n",
      "fmin=9.2e-01, iter=24545,A=1.0e+35, a=1, b=0.1, g=0.7, s=32\n",
      "fmin=3.1e+00, iter=23941,A=1.0e+35, a=1, b=0.1, g=0.9, s=28\n",
      "fmin=2.0e+00, iter=24450,A=1.0e+35, a=1, b=0.1, g=0.9, s=30\n",
      "fmin=8.4e-01, iter=21914,A=1.0e+35, a=1, b=0.1, g=0.9, s=32\n",
      "fmin=7.9e+00, iter=85462,A=1.0e+35, a=1, b=0.3, g=0.1, s=28\n",
      "fmin=4.1e+00, iter=69719,A=1.0e+35, a=1, b=0.3, g=0.1, s=30\n",
      "fmin=1.2e+00, iter=40270,A=1.0e+35, a=1, b=0.3, g=0.1, s=32\n",
      "fmin=5.9e+00, iter=58338,A=1.0e+35, a=1, b=0.3, g=0.3, s=28\n",
      "fmin=3.2e+00, iter=50730,A=1.0e+35, a=1, b=0.3, g=0.3, s=30\n",
      "fmin=1.1e+00, iter=33619,A=1.0e+35, a=1, b=0.3, g=0.3, s=32\n",
      "fmin=4.7e+00, iter=44579,A=1.0e+35, a=1, b=0.3, g=0.5, s=28\n",
      "fmin=2.7e+00, iter=40066,A=1.0e+35, a=1, b=0.3, g=0.5, s=30\n",
      "fmin=9.5e-01, iter=28765,A=1.0e+35, a=1, b=0.3, g=0.5, s=32\n",
      "fmin=4.0e+00, iter=36134,A=1.0e+35, a=1, b=0.3, g=0.7, s=28\n",
      "fmin=2.3e+00, iter=33198,A=1.0e+35, a=1, b=0.3, g=0.7, s=30\n",
      "fmin=8.7e-01, iter=25108,A=1.0e+35, a=1, b=0.3, g=0.7, s=32\n",
      "fmin=3.5e+00, iter=30284,A=1.0e+35, a=1, b=0.3, g=0.9, s=28\n",
      "fmin=2.1e+00, iter=28387,A=1.0e+35, a=1, b=0.3, g=0.9, s=30\n",
      "fmin=8.0e-01, iter=22266,A=1.0e+35, a=1, b=0.3, g=0.9, s=32\n",
      "fmin=1.2e+01, iter=162303,A=1.0e+35, a=1, b=0.5, g=0.1, s=28\n",
      "fmin=5.4e+00, iter=112643,A=1.0e+35, a=1, b=0.5, g=0.1, s=30\n",
      "fmin=1.0e+00, iter=39905,A=1.0e+35, a=1, b=0.5, g=0.1, s=32\n",
      "fmin=7.6e+00, iter=85347,A=1.0e+35, a=1, b=0.5, g=0.3, s=28\n",
      "fmin=3.8e+00, iter=69425,A=1.0e+35, a=1, b=0.5, g=0.3, s=30\n",
      "fmin=9.6e-01, iter=34118,A=1.0e+35, a=1, b=0.5, g=0.3, s=32\n",
      "fmin=5.7e+00, iter=58652,A=1.0e+35, a=1, b=0.5, g=0.5, s=28\n",
      "fmin=3.0e+00, iter=50558,A=1.0e+35, a=1, b=0.5, g=0.5, s=30\n",
      "fmin=8.7e-01, iter=29312,A=1.0e+35, a=1, b=0.5, g=0.5, s=32\n",
      "fmin=4.6e+00, iter=44895,A=1.0e+35, a=1, b=0.5, g=0.7, s=28\n",
      "fmin=2.5e+00, iter=39913,A=1.0e+35, a=1, b=0.5, g=0.7, s=30\n",
      "fmin=8.0e-01, iter=25546,A=1.0e+35, a=1, b=0.5, g=0.7, s=32\n",
      "fmin=3.8e+00, iter=36438,A=1.0e+35, a=1, b=0.5, g=0.9, s=28\n",
      "fmin=2.2e+00, iter=33047,A=1.0e+35, a=1, b=0.5, g=0.9, s=30\n",
      "fmin=7.4e-01, iter=22583,A=1.0e+35, a=1, b=0.5, g=0.9, s=32\n",
      "fmin=2.0e+01, iter=294507,A=1.0e+35, a=1, b=0.7, g=0.1, s=28\n",
      "fmin=7.6e+00, iter=195689,A=1.0e+35, a=1, b=0.7, g=0.1, s=30\n",
      "fmin=8.0e-01, iter=33904,A=1.0e+35, a=1, b=0.7, g=0.1, s=32\n",
      "fmin=9.8e+00, iter=115583,A=1.0e+35, a=1, b=0.7, g=0.3, s=28\n",
      "fmin=4.6e+00, iter=95462,A=1.0e+35, a=1, b=0.7, g=0.3, s=30\n",
      "fmin=8.0e-01, iter=32372,A=1.0e+35, a=1, b=0.7, g=0.3, s=32\n",
      "fmin=6.7e+00, iter=72688,A=1.0e+35, a=1, b=0.7, g=0.5, s=28\n",
      "fmin=3.4e+00, iter=63596,A=1.0e+35, a=1, b=0.7, g=0.5, s=30\n",
      "fmin=7.5e-01, iter=28914,A=1.0e+35, a=1, b=0.7, g=0.5, s=32\n",
      "fmin=5.2e+00, iter=53206,A=1.0e+35, a=1, b=0.7, g=0.7, s=28\n",
      "fmin=2.8e+00, iter=47857,A=1.0e+35, a=1, b=0.7, g=0.7, s=30\n",
      "fmin=7.0e-01, iter=25560,A=1.0e+35, a=1, b=0.7, g=0.7, s=32\n",
      "fmin=4.2e+00, iter=42032,A=1.0e+35, a=1, b=0.7, g=0.9, s=28\n",
      "fmin=2.3e+00, iter=38440,A=1.0e+35, a=1, b=0.7, g=0.9, s=30\n",
      "fmin=6.6e-01, iter=22705,A=1.0e+35, a=1, b=0.7, g=0.9, s=32\n",
      "fmin=4.9e+01, iter=416638,A=1.0e+35, a=1, b=0.9, g=0.1, s=26\n",
      "fmin=3.0e+01, iter=405872,A=1.0e+35, a=1, b=0.9, g=0.1, s=28\n",
      "fmin=1.1e+01, iter=335928,A=1.0e+35, a=1, b=0.9, g=0.1, s=30\n",
      "fmin=3.3e-01, iter=13215,A=1.0e+35, a=1, b=0.9, g=0.1, s=32\n",
      "fmin=1.2e+01, iter=137679,A=1.0e+35, a=1, b=0.9, g=0.3, s=28\n",
      "fmin=5.6e+00, iter=126536,A=1.0e+35, a=1, b=0.9, g=0.3, s=30\n",
      "fmin=4.5e-01, iter=21151,A=1.0e+35, a=1, b=0.9, g=0.3, s=32\n",
      "fmin=7.7e+00, iter=83083,A=1.0e+35, a=1, b=0.9, g=0.5, s=28\n",
      "fmin=3.9e+00, iter=78209,A=1.0e+35, a=1, b=0.9, g=0.5, s=30\n",
      "fmin=5.1e-01, iter=23875,A=1.0e+35, a=1, b=0.9, g=0.5, s=32\n",
      "fmin=5.7e+00, iter=59535,A=1.0e+35, a=1, b=0.9, g=0.7, s=28\n",
      "fmin=3.0e+00, iter=56674,A=1.0e+35, a=1, b=0.9, g=0.7, s=30\n",
      "fmin=5.2e-01, iter=23213,A=1.0e+35, a=1, b=0.9, g=0.7, s=32\n",
      "fmin=4.6e+00, iter=46405,A=1.0e+35, a=1, b=0.9, g=0.9, s=28\n",
      "fmin=2.5e+00, iter=44469,A=1.0e+35, a=1, b=0.9, g=0.9, s=30\n",
      "fmin=5.1e-01, iter=21499,A=1.0e+35, a=1, b=0.9, g=0.9, s=32\n",
      "fmin=3.0e+00, iter=22655,A=1.0e+35, a=2, b=0.1, g=0.1, s=28\n",
      "fmin=1.8e+00, iter=23379,A=1.0e+35, a=2, b=0.1, g=0.1, s=30\n",
      "fmin=7.6e-01, iter=19807,A=1.0e+35, a=2, b=0.1, g=0.1, s=32\n",
      "fmin=2.7e+00, iter=16186,A=1.0e+35, a=2, b=0.1, g=0.3, s=28\n",
      "fmin=1.7e+00, iter=20945,A=1.0e+35, a=2, b=0.1, g=0.3, s=30\n",
      "fmin=7.1e-01, iter=18018,A=1.0e+35, a=2, b=0.1, g=0.3, s=32\n",
      "fmin=2.4e+00, iter=3915,A=1.0e+35, a=2, b=0.1, g=0.5, s=28\n",
      "fmin=1.5e+00, iter=18981,A=1.0e+35, a=2, b=0.1, g=0.5, s=30\n",
      "fmin=6.7e-01, iter=16525,A=1.0e+35, a=2, b=0.1, g=0.5, s=32\n",
      "fmin=1.4e+00, iter=17360,A=1.0e+35, a=2, b=0.1, g=0.7, s=30\n",
      "fmin=6.3e-01, iter=15259,A=1.0e+35, a=2, b=0.1, g=0.7, s=32\n",
      "fmin=1.3e+00, iter=16000,A=1.0e+35, a=2, b=0.1, g=0.9, s=30\n",
      "fmin=6.0e-01, iter=14172,A=1.0e+35, a=2, b=0.1, g=0.9, s=32\n",
      "fmin=3.7e+00, iter=38595,A=1.0e+35, a=2, b=0.3, g=0.1, s=28\n",
      "fmin=2.0e+00, iter=31414,A=1.0e+35, a=2, b=0.3, g=0.1, s=30\n",
      "fmin=6.7e-01, iter=19368,A=1.0e+35, a=2, b=0.3, g=0.1, s=32\n",
      "fmin=3.2e+00, iter=31503,A=1.0e+35, a=2, b=0.3, g=0.3, s=28\n",
      "fmin=1.8e+00, iter=26770,A=1.0e+35, a=2, b=0.3, g=0.3, s=30\n",
      "fmin=6.3e-01, iter=17573,A=1.0e+35, a=2, b=0.3, g=0.3, s=32\n",
      "fmin=2.8e+00, iter=26465,A=1.0e+35, a=2, b=0.3, g=0.5, s=28\n",
      "fmin=1.6e+00, iter=23367,A=1.0e+35, a=2, b=0.3, g=0.5, s=30\n",
      "fmin=5.9e-01, iter=16071,A=1.0e+35, a=2, b=0.3, g=0.5, s=32\n",
      "fmin=2.5e+00, iter=22465,A=1.0e+35, a=2, b=0.3, g=0.7, s=28\n",
      "fmin=1.5e+00, iter=20760,A=1.0e+35, a=2, b=0.3, g=0.7, s=30\n",
      "fmin=5.6e-01, iter=14799,A=1.0e+35, a=2, b=0.3, g=0.7, s=32\n",
      "fmin=2.3e+00, iter=18874,A=1.0e+35, a=2, b=0.3, g=0.9, s=28\n",
      "fmin=1.4e+00, iter=18696,A=1.0e+35, a=2, b=0.3, g=0.9, s=30\n",
      "fmin=5.3e-01, iter=13709,A=1.0e+35, a=2, b=0.3, g=0.9, s=32\n",
      "fmin=5.2e+00, iter=70461,A=1.0e+35, a=2, b=0.5, g=0.1, s=28\n",
      "fmin=2.3e+00, iter=45190,A=1.0e+35, a=2, b=0.5, g=0.1, s=30\n",
      "fmin=5.4e-01, iter=17267,A=1.0e+35, a=2, b=0.5, g=0.1, s=32\n",
      "fmin=4.1e+00, iter=49614,A=1.0e+35, a=2, b=0.5, g=0.3, s=28\n",
      "fmin=1.9e+00, iter=35806,A=1.0e+35, a=2, b=0.5, g=0.3, s=30\n",
      "fmin=5.1e-01, iter=15896,A=1.0e+35, a=2, b=0.5, g=0.3, s=32\n",
      "fmin=3.4e+00, iter=38576,A=1.0e+35, a=2, b=0.5, g=0.5, s=28\n",
      "fmin=1.7e+00, iter=29730,A=1.0e+35, a=2, b=0.5, g=0.5, s=30\n",
      "fmin=4.9e-01, iter=14670,A=1.0e+35, a=2, b=0.5, g=0.5, s=32\n",
      "fmin=2.9e+00, iter=31678,A=1.0e+35, a=2, b=0.5, g=0.7, s=28\n",
      "fmin=1.5e+00, iter=25470,A=1.0e+35, a=2, b=0.5, g=0.7, s=30\n",
      "fmin=4.7e-01, iter=13585,A=1.0e+35, a=2, b=0.5, g=0.7, s=32\n",
      "fmin=2.6e+00, iter=26929,A=1.0e+35, a=2, b=0.5, g=0.9, s=28\n",
      "fmin=1.4e+00, iter=22312,A=1.0e+35, a=2, b=0.5, g=0.9, s=30\n",
      "fmin=4.5e-01, iter=12629,A=1.0e+35, a=2, b=0.5, g=0.9, s=32\n",
      "fmin=8.8e+00, iter=155587,A=1.0e+35, a=2, b=0.7, g=0.1, s=28\n",
      "fmin=2.7e+00, iter=71491,A=1.0e+35, a=2, b=0.7, g=0.1, s=30\n",
      "fmin=3.5e-01, iter=11608,A=1.0e+35, a=2, b=0.7, g=0.1, s=32\n",
      "fmin=5.6e+00, iter=81667,A=1.0e+35, a=2, b=0.7, g=0.3, s=28\n",
      "fmin=2.2e+00, iter=51103,A=1.0e+35, a=2, b=0.7, g=0.3, s=30\n",
      "fmin=3.4e-01, iter=11258,A=1.0e+35, a=2, b=0.7, g=0.3, s=32\n",
      "fmin=4.3e+00, iter=56045,A=1.0e+35, a=2, b=0.7, g=0.5, s=28\n",
      "fmin=1.8e+00, iter=39675,A=1.0e+35, a=2, b=0.7, g=0.5, s=30\n",
      "fmin=3.4e-01, iter=10782,A=1.0e+35, a=2, b=0.7, g=0.5, s=32\n",
      "fmin=3.5e+00, iter=42887,A=1.0e+35, a=2, b=0.7, g=0.7, s=28\n",
      "fmin=1.6e+00, iter=32469,A=1.0e+35, a=2, b=0.7, g=0.7, s=30\n",
      "fmin=3.3e-01, iter=10252,A=1.0e+35, a=2, b=0.7, g=0.7, s=32\n",
      "fmin=3.0e+00, iter=34832,A=1.0e+35, a=2, b=0.7, g=0.9, s=28\n",
      "fmin=1.4e+00, iter=27517,A=1.0e+35, a=2, b=0.7, g=0.9, s=30\n",
      "fmin=3.2e-01, iter=9710,A=1.0e+35, a=2, b=0.7, g=0.9, s=32\n",
      "fmin=3.5e+01, iter=391991,A=1.0e+35, a=2, b=0.9, g=0.1, s=26\n",
      "fmin=1.8e+01, iter=346322,A=1.0e+35, a=2, b=0.9, g=0.1, s=28\n",
      "fmin=3.3e+00, iter=132386,A=1.0e+35, a=2, b=0.9, g=0.1, s=30\n"
     ]
    },
    {
     "name": "stdout",
     "output_type": "stream",
     "text": [
      "fmin=1.4e+01, iter=133673,A=1.0e+35, a=2, b=0.9, g=0.3, s=26\n",
      "fmin=8.0e+00, iter=125580,A=1.0e+35, a=2, b=0.9, g=0.3, s=28\n",
      "fmin=2.5e+00, iter=82526,A=1.0e+35, a=2, b=0.9, g=0.3, s=30\n",
      "fmin=9.2e+00, iter=75397,A=1.0e+35, a=2, b=0.9, g=0.5, s=26\n",
      "fmin=5.4e+00, iter=77160,A=1.0e+35, a=2, b=0.9, g=0.5, s=28\n",
      "fmin=2.0e+00, iter=58055,A=1.0e+35, a=2, b=0.9, g=0.5, s=30\n",
      "fmin=4.2e+00, iter=55803,A=1.0e+35, a=2, b=0.9, g=0.7, s=28\n",
      "fmin=1.7e+00, iter=44688,A=1.0e+35, a=2, b=0.9, g=0.7, s=30\n",
      "fmin=3.4e+00, iter=43750,A=1.0e+35, a=2, b=0.9, g=0.9, s=28\n",
      "fmin=1.4e+00, iter=36331,A=1.0e+35, a=2, b=0.9, g=0.9, s=30\n",
      "fmin=1.3e+00, iter=15332,A=1.0e+35, a=3, b=0.1, g=0.1, s=30\n",
      "fmin=5.6e-01, iter=13115,A=1.0e+35, a=3, b=0.1, g=0.1, s=32\n",
      "fmin=1.2e+00, iter=14243,A=1.0e+35, a=3, b=0.1, g=0.3, s=30\n",
      "fmin=5.3e-01, iter=12287,A=1.0e+35, a=3, b=0.1, g=0.3, s=32\n",
      "fmin=1.1e+00, iter=13302,A=1.0e+35, a=3, b=0.1, g=0.5, s=30\n",
      "fmin=5.1e-01, iter=11556,A=1.0e+35, a=3, b=0.1, g=0.5, s=32\n",
      "fmin=1.1e+00, iter=12480,A=1.0e+35, a=3, b=0.1, g=0.7, s=30\n",
      "fmin=4.9e-01, iter=10905,A=1.0e+35, a=3, b=0.1, g=0.7, s=32\n",
      "fmin=1.0e+00, iter=11757,A=1.0e+35, a=3, b=0.1, g=0.9, s=30\n",
      "fmin=4.7e-01, iter=10322,A=1.0e+35, a=3, b=0.1, g=0.9, s=32\n",
      "fmin=2.3e+00, iter=22685,A=1.0e+35, a=3, b=0.3, g=0.1, s=28\n",
      "fmin=1.3e+00, iter=18961,A=1.0e+35, a=3, b=0.3, g=0.1, s=30\n",
      "fmin=4.6e-01, iter=11993,A=1.0e+35, a=3, b=0.3, g=0.1, s=32\n",
      "fmin=2.1e+00, iter=19654,A=1.0e+35, a=3, b=0.3, g=0.3, s=28\n",
      "fmin=1.2e+00, iter=17144,A=1.0e+35, a=3, b=0.3, g=0.3, s=30\n",
      "fmin=4.4e-01, iter=11236,A=1.0e+35, a=3, b=0.3, g=0.3, s=32\n",
      "fmin=1.9e+00, iter=17114,A=1.0e+35, a=3, b=0.3, g=0.5, s=28\n",
      "fmin=1.1e+00, iter=15659,A=1.0e+35, a=3, b=0.3, g=0.5, s=30\n",
      "fmin=4.3e-01, iter=10563,A=1.0e+35, a=3, b=0.3, g=0.5, s=32\n",
      "fmin=1.8e+00, iter=14865,A=1.0e+35, a=3, b=0.3, g=0.7, s=28\n",
      "fmin=1.0e+00, iter=14422,A=1.0e+35, a=3, b=0.3, g=0.7, s=30\n",
      "fmin=4.1e-01, iter=9962,A=1.0e+35, a=3, b=0.3, g=0.7, s=32\n",
      "fmin=1.7e+00, iter=12782,A=1.0e+35, a=3, b=0.3, g=0.9, s=28\n",
      "fmin=9.8e-01, iter=13373,A=1.0e+35, a=3, b=0.3, g=0.9, s=30\n",
      "fmin=4.0e-01, iter=9422,A=1.0e+35, a=3, b=0.3, g=0.9, s=32\n",
      "fmin=2.9e+00, iter=37970,A=1.0e+35, a=3, b=0.5, g=0.1, s=28\n",
      "fmin=1.3e+00, iter=24153,A=1.0e+35, a=3, b=0.5, g=0.1, s=30\n",
      "fmin=3.4e-01, iter=9422,A=1.0e+35, a=3, b=0.5, g=0.1, s=32\n",
      "fmin=2.5e+00, iter=30787,A=1.0e+35, a=3, b=0.5, g=0.3, s=28\n",
      "fmin=1.2e+00, iter=21128,A=1.0e+35, a=3, b=0.5, g=0.3, s=30\n",
      "fmin=3.3e-01, iter=8910,A=1.0e+35, a=3, b=0.5, g=0.3, s=32\n",
      "fmin=2.2e+00, iter=25986,A=1.0e+35, a=3, b=0.5, g=0.5, s=28\n",
      "fmin=1.1e+00, iter=18796,A=1.0e+35, a=3, b=0.5, g=0.5, s=30\n",
      "fmin=3.2e-01, iter=8433,A=1.0e+35, a=3, b=0.5, g=0.5, s=32\n",
      "fmin=2.0e+00, iter=22536,A=1.0e+35, a=3, b=0.5, g=0.7, s=28\n",
      "fmin=1.0e+00, iter=16944,A=1.0e+35, a=3, b=0.5, g=0.7, s=30\n",
      "fmin=3.1e-01, iter=7991,A=1.0e+35, a=3, b=0.5, g=0.7, s=32\n",
      "fmin=1.8e+00, iter=19929,A=1.0e+35, a=3, b=0.5, g=0.9, s=28\n",
      "fmin=9.4e-01, iter=15437,A=1.0e+35, a=3, b=0.5, g=0.9, s=30\n",
      "fmin=3.0e-01, iter=7582,A=1.0e+35, a=3, b=0.5, g=0.9, s=32\n",
      "fmin=4.1e+00, iter=76709,A=1.0e+35, a=3, b=0.7, g=0.1, s=28\n",
      "fmin=1.2e+00, iter=31157,A=1.0e+35, a=3, b=0.7, g=0.1, s=30\n",
      "fmin=1.9e-01, iter=3083,A=1.0e+35, a=3, b=0.7, g=0.1, s=32\n",
      "fmin=3.2e+00, iter=52162,A=1.0e+35, a=3, b=0.7, g=0.3, s=28\n",
      "fmin=1.1e+00, iter=26510,A=1.0e+35, a=3, b=0.7, g=0.3, s=30\n",
      "fmin=1.9e-01, iter=2933,A=1.0e+35, a=3, b=0.7, g=0.3, s=32\n",
      "fmin=2.6e+00, iter=39766,A=1.0e+35, a=3, b=0.7, g=0.5, s=28\n",
      "fmin=1.0e+00, iter=22998,A=1.0e+35, a=3, b=0.7, g=0.5, s=30\n",
      "fmin=1.8e-01, iter=2766,A=1.0e+35, a=3, b=0.7, g=0.5, s=32\n",
      "fmin=2.3e+00, iter=32259,A=1.0e+35, a=3, b=0.7, g=0.7, s=28\n",
      "fmin=9.2e-01, iter=20294,A=1.0e+35, a=3, b=0.7, g=0.7, s=30\n",
      "fmin=1.8e-01, iter=2586,A=1.0e+35, a=3, b=0.7, g=0.7, s=32\n",
      "fmin=2.0e+00, iter=27206,A=1.0e+35, a=3, b=0.7, g=0.9, s=28\n",
      "fmin=8.6e-01, iter=18160,A=1.0e+35, a=3, b=0.7, g=0.9, s=30\n",
      "fmin=1.8e-01, iter=2397,A=1.0e+35, a=3, b=0.7, g=0.9, s=32\n",
      "fmin=2.3e+01, iter=346442,A=1.0e+35, a=3, b=0.9, g=0.1, s=26\n",
      "fmin=8.2e+00, iter=225323,A=1.0e+35, a=3, b=0.9, g=0.1, s=28\n",
      "fmin=8.2e-01, iter=31583,A=1.0e+35, a=3, b=0.9, g=0.1, s=30\n",
      "fmin=1.0e+01, iter=124333,A=1.0e+35, a=3, b=0.9, g=0.3, s=26\n",
      "fmin=4.7e+00, iter=101680,A=1.0e+35, a=3, b=0.9, g=0.3, s=28\n",
      "fmin=8.1e-01, iter=30307,A=1.0e+35, a=3, b=0.9, g=0.3, s=30\n",
      "fmin=6.9e+00, iter=76279,A=1.0e+35, a=3, b=0.9, g=0.5, s=26\n",
      "fmin=3.5e+00, iter=66027,A=1.0e+35, a=3, b=0.9, g=0.5, s=28\n",
      "fmin=7.7e-01, iter=27238,A=1.0e+35, a=3, b=0.9, g=0.5, s=30\n",
      "fmin=5.3e+00, iter=55132,A=1.0e+35, a=3, b=0.9, g=0.7, s=26\n",
      "fmin=2.8e+00, iter=49041,A=1.0e+35, a=3, b=0.9, g=0.7, s=28\n",
      "fmin=7.2e-01, iter=24188,A=1.0e+35, a=3, b=0.9, g=0.7, s=30\n",
      "fmin=4.3e+00, iter=43198,A=1.0e+35, a=3, b=0.9, g=0.9, s=26\n",
      "fmin=2.3e+00, iter=39073,A=1.0e+35, a=3, b=0.9, g=0.9, s=28\n",
      "fmin=6.7e-01, iter=21559,A=1.0e+35, a=3, b=0.9, g=0.9, s=30\n",
      "fmin=9.5e-01, iter=11310,A=1.0e+35, a=4, b=0.1, g=0.1, s=30\n",
      "fmin=4.4e-01, iter=9677,A=1.0e+35, a=4, b=0.1, g=0.1, s=32\n",
      "fmin=9.1e-01, iter=10705,A=1.0e+35, a=4, b=0.1, g=0.3, s=30\n",
      "fmin=4.3e-01, iter=9205,A=1.0e+35, a=4, b=0.1, g=0.3, s=32\n",
      "fmin=8.7e-01, iter=10163,A=1.0e+35, a=4, b=0.1, g=0.5, s=30\n",
      "fmin=4.1e-01, iter=8774,A=1.0e+35, a=4, b=0.1, g=0.5, s=32\n",
      "fmin=8.4e-01, iter=9674,A=1.0e+35, a=4, b=0.1, g=0.7, s=30\n",
      "fmin=4.0e-01, iter=8380,A=1.0e+35, a=4, b=0.1, g=0.7, s=32\n",
      "fmin=8.1e-01, iter=9232,A=1.0e+35, a=4, b=0.1, g=0.9, s=30\n",
      "fmin=3.9e-01, iter=8019,A=1.0e+35, a=4, b=0.1, g=0.9, s=32\n",
      "fmin=1.6e+00, iter=15411,A=1.0e+35, a=4, b=0.3, g=0.1, s=28\n",
      "fmin=9.1e-01, iter=13107,A=1.0e+35, a=4, b=0.3, g=0.1, s=30\n",
      "fmin=3.5e-01, iter=8285,A=1.0e+35, a=4, b=0.3, g=0.1, s=32\n",
      "fmin=1.5e+00, iter=13938,A=1.0e+35, a=4, b=0.3, g=0.3, s=28\n",
      "fmin=8.6e-01, iter=12206,A=1.0e+35, a=4, b=0.3, g=0.3, s=30\n",
      "fmin=3.4e-01, iter=7882,A=1.0e+35, a=4, b=0.3, g=0.3, s=32\n",
      "fmin=1.4e+00, iter=12683,A=1.0e+35, a=4, b=0.3, g=0.5, s=28\n",
      "fmin=8.2e-01, iter=11427,A=1.0e+35, a=4, b=0.3, g=0.5, s=30\n",
      "fmin=3.3e-01, iter=7512,A=1.0e+35, a=4, b=0.3, g=0.5, s=32\n",
      "fmin=1.3e+00, iter=11603,A=1.0e+35, a=4, b=0.3, g=0.7, s=28\n",
      "fmin=7.9e-01, iter=10746,A=1.0e+35, a=4, b=0.3, g=0.7, s=30\n",
      "fmin=3.2e-01, iter=7171,A=1.0e+35, a=4, b=0.3, g=0.7, s=32\n",
      "fmin=1.3e+00, iter=10665,A=1.0e+35, a=4, b=0.3, g=0.9, s=28\n",
      "fmin=7.5e-01, iter=10145,A=1.0e+35, a=4, b=0.3, g=0.9, s=30\n",
      "fmin=3.1e-01, iter=6855,A=1.0e+35, a=4, b=0.3, g=0.9, s=32\n",
      "fmin=1.8e+00, iter=23583,A=1.0e+35, a=4, b=0.5, g=0.1, s=28\n",
      "fmin=8.3e-01, iter=15080,A=1.0e+35, a=4, b=0.5, g=0.1, s=30\n",
      "fmin=2.4e-01, iter=5343,A=1.0e+35, a=4, b=0.5, g=0.1, s=32\n",
      "fmin=1.6e+00, iter=20559,A=1.0e+35, a=4, b=0.5, g=0.3, s=28\n",
      "fmin=7.8e-01, iter=13826,A=1.0e+35, a=4, b=0.5, g=0.3, s=30\n",
      "fmin=2.3e-01, iter=5081,A=1.0e+35, a=4, b=0.5, g=0.3, s=32\n",
      "fmin=1.5e+00, iter=18258,A=1.0e+35, a=4, b=0.5, g=0.5, s=28\n",
      "fmin=7.4e-01, iter=12771,A=1.0e+35, a=4, b=0.5, g=0.5, s=30\n",
      "fmin=2.3e-01, iter=4830,A=1.0e+35, a=4, b=0.5, g=0.5, s=32\n",
      "fmin=1.4e+00, iter=16445,A=1.0e+35, a=4, b=0.5, g=0.7, s=28\n",
      "fmin=7.0e-01, iter=11871,A=1.0e+35, a=4, b=0.5, g=0.7, s=30\n",
      "fmin=2.2e-01, iter=4589,A=1.0e+35, a=4, b=0.5, g=0.7, s=32\n",
      "fmin=1.3e+00, iter=14976,A=1.0e+35, a=4, b=0.5, g=0.9, s=28\n",
      "fmin=6.7e-01, iter=11094,A=1.0e+35, a=4, b=0.5, g=0.9, s=30\n",
      "fmin=2.2e-01, iter=4358,A=1.0e+35, a=4, b=0.5, g=0.9, s=32\n",
      "fmin=2.2e+00, iter=40455,A=1.0e+35, a=4, b=0.7, g=0.1, s=28\n",
      "fmin=6.6e-01, iter=16072,A=1.0e+35, a=4, b=0.7, g=0.1, s=30\n",
      "fmin=1.9e+00, iter=32251,A=1.0e+35, a=4, b=0.7, g=0.3, s=28\n",
      "fmin=6.2e-01, iter=14712,A=1.0e+35, a=4, b=0.7, g=0.3, s=30\n",
      "fmin=1.7e+00, iter=26873,A=1.0e+35, a=4, b=0.7, g=0.5, s=28\n",
      "fmin=5.9e-01, iter=13544,A=1.0e+35, a=4, b=0.7, g=0.5, s=30\n",
      "fmin=1.5e+00, iter=23080,A=1.0e+35, a=4, b=0.7, g=0.7, s=28\n",
      "fmin=5.6e-01, iter=12537,A=1.0e+35, a=4, b=0.7, g=0.7, s=30\n",
      "fmin=1.4e+00, iter=20257,A=1.0e+35, a=4, b=0.7, g=0.9, s=28\n",
      "fmin=5.4e-01, iter=11665,A=1.0e+35, a=4, b=0.7, g=0.9, s=30\n",
      "fmin=2.8e+01, iter=206309,A=1.0e+35, a=4, b=0.9, g=0.1, s=24\n",
      "fmin=1.3e+01, iter=265685,A=1.0e+35, a=4, b=0.9, g=0.1, s=26\n",
      "fmin=3.0e+00, iter=95107,A=1.0e+35, a=4, b=0.9, g=0.1, s=28\n",
      "fmin=2.6e-01, iter=7370,A=1.0e+35, a=4, b=0.9, g=0.1, s=30\n",
      "fmin=6.9e+00, iter=108117,A=1.0e+35, a=4, b=0.9, g=0.3, s=26\n",
      "fmin=2.3e+00, iter=63814,A=1.0e+35, a=4, b=0.9, g=0.3, s=28\n",
      "fmin=2.6e-01, iter=7430,A=1.0e+35, a=4, b=0.9, g=0.3, s=30\n"
     ]
    },
    {
     "name": "stdout",
     "output_type": "stream",
     "text": [
      "fmin=4.9e+00, iter=68547,A=1.0e+35, a=4, b=0.9, g=0.5, s=26\n",
      "fmin=1.9e+00, iter=47218,A=1.0e+35, a=4, b=0.9, g=0.5, s=28\n",
      "fmin=2.6e-01, iter=7348,A=1.0e+35, a=4, b=0.9, g=0.5, s=30\n",
      "fmin=3.8e+00, iter=50367,A=1.0e+35, a=4, b=0.9, g=0.7, s=26\n",
      "fmin=1.6e+00, iter=37449,A=1.0e+35, a=4, b=0.9, g=0.7, s=28\n",
      "fmin=2.6e-01, iter=7167,A=1.0e+35, a=4, b=0.9, g=0.7, s=30\n",
      "fmin=3.2e+00, iter=39884,A=1.0e+35, a=4, b=0.9, g=0.9, s=26\n",
      "fmin=1.4e+00, iter=31052,A=1.0e+35, a=4, b=0.9, g=0.9, s=28\n",
      "fmin=2.5e-01, iter=6924,A=1.0e+35, a=4, b=0.9, g=0.9, s=30\n",
      "fmin=7.7e-01, iter=8914,A=1.0e+35, a=5, b=0.1, g=0.1, s=30\n",
      "fmin=3.7e-01, iter=7575,A=1.0e+35, a=5, b=0.1, g=0.1, s=32\n",
      "fmin=7.4e-01, iter=8533,A=1.0e+35, a=5, b=0.1, g=0.3, s=30\n",
      "fmin=3.6e-01, iter=7270,A=1.0e+35, a=5, b=0.1, g=0.3, s=32\n",
      "fmin=7.2e-01, iter=8184,A=1.0e+35, a=5, b=0.1, g=0.5, s=30\n",
      "fmin=3.5e-01, iter=6985,A=1.0e+35, a=5, b=0.1, g=0.5, s=32\n",
      "fmin=6.9e-01, iter=7863,A=1.0e+35, a=5, b=0.1, g=0.7, s=30\n",
      "fmin=3.4e-01, iter=6720,A=1.0e+35, a=5, b=0.1, g=0.7, s=32\n",
      "fmin=6.7e-01, iter=7568,A=1.0e+35, a=5, b=0.1, g=0.9, s=30\n",
      "fmin=3.3e-01, iter=6473,A=1.0e+35, a=5, b=0.1, g=0.9, s=32\n",
      "fmin=1.2e+00, iter=11656,A=1.0e+35, a=5, b=0.3, g=0.1, s=28\n",
      "fmin=7.0e-01, iter=9796,A=1.0e+35, a=5, b=0.3, g=0.1, s=30\n",
      "fmin=2.8e-01, iter=6008,A=1.0e+35, a=5, b=0.3, g=0.1, s=32\n",
      "fmin=1.2e+00, iter=10878,A=1.0e+35, a=5, b=0.3, g=0.3, s=28\n",
      "fmin=6.7e-01, iter=9281,A=1.0e+35, a=5, b=0.3, g=0.3, s=30\n",
      "fmin=2.7e-01, iter=5757,A=1.0e+35, a=5, b=0.3, g=0.3, s=32\n",
      "fmin=1.1e+00, iter=10203,A=1.0e+35, a=5, b=0.3, g=0.5, s=28\n",
      "fmin=6.5e-01, iter=8821,A=1.0e+35, a=5, b=0.3, g=0.5, s=30\n",
      "fmin=2.7e-01, iter=5521,A=1.0e+35, a=5, b=0.3, g=0.5, s=32\n",
      "fmin=1.1e+00, iter=9613,A=1.0e+35, a=5, b=0.3, g=0.7, s=28\n",
      "fmin=6.2e-01, iter=8406,A=1.0e+35, a=5, b=0.3, g=0.7, s=30\n",
      "fmin=2.6e-01, iter=5297,A=1.0e+35, a=5, b=0.3, g=0.7, s=32\n",
      "fmin=1.0e+00, iter=9093,A=1.0e+35, a=5, b=0.3, g=0.9, s=28\n",
      "fmin=6.0e-01, iter=8030,A=1.0e+35, a=5, b=0.3, g=0.9, s=30\n",
      "fmin=2.5e-01, iter=5086,A=1.0e+35, a=5, b=0.3, g=0.9, s=32\n",
      "fmin=1.3e+00, iter=16061,A=1.0e+35, a=5, b=0.5, g=0.1, s=28\n",
      "fmin=5.9e-01, iter=10343,A=1.0e+35, a=5, b=0.5, g=0.1, s=30\n",
      "fmin=1.8e-01, iter=2312,A=1.0e+35, a=5, b=0.5, g=0.1, s=32\n",
      "fmin=1.2e+00, iter=14588,A=1.0e+35, a=5, b=0.5, g=0.3, s=28\n",
      "fmin=5.6e-01, iter=9730,A=1.0e+35, a=5, b=0.5, g=0.3, s=30\n",
      "fmin=1.8e-01, iter=2118,A=1.0e+35, a=5, b=0.5, g=0.3, s=32\n",
      "fmin=1.1e+00, iter=13376,A=1.0e+35, a=5, b=0.5, g=0.5, s=28\n",
      "fmin=5.4e-01, iter=9188,A=1.0e+35, a=5, b=0.5, g=0.5, s=30\n",
      "fmin=1.7e-01, iter=1926,A=1.0e+35, a=5, b=0.5, g=0.5, s=32\n",
      "fmin=1.0e+00, iter=12360,A=1.0e+35, a=5, b=0.5, g=0.7, s=28\n",
      "fmin=5.2e-01, iter=8705,A=1.0e+35, a=5, b=0.5, g=0.7, s=30\n",
      "fmin=1.7e-01, iter=1734,A=1.0e+35, a=5, b=0.5, g=0.7, s=32\n",
      "fmin=1.0e+00, iter=11497,A=1.0e+35, a=5, b=0.5, g=0.9, s=28\n",
      "fmin=5.0e-01, iter=8272,A=1.0e+35, a=5, b=0.5, g=0.9, s=30\n",
      "fmin=1.7e-01, iter=1543,A=1.0e+35, a=5, b=0.5, g=0.9, s=32\n",
      "fmin=3.0e+00, iter=40292,A=1.0e+35, a=5, b=0.7, g=0.1, s=26\n",
      "fmin=1.3e+00, iter=23337,A=1.0e+35, a=5, b=0.7, g=0.1, s=28\n",
      "fmin=4.0e-01, iter=9213,A=1.0e+35, a=5, b=0.7, g=0.1, s=30\n",
      "fmin=2.6e+00, iter=28542,A=1.0e+35, a=5, b=0.7, g=0.3, s=26\n",
      "fmin=1.2e+00, iter=20314,A=1.0e+35, a=5, b=0.7, g=0.3, s=28\n",
      "fmin=3.8e-01, iter=8720,A=1.0e+35, a=5, b=0.7, g=0.3, s=30\n",
      "fmin=2.2e+00, iter=19654,A=1.0e+35, a=5, b=0.7, g=0.5, s=26\n",
      "fmin=1.1e+00, iter=17998,A=1.0e+35, a=5, b=0.7, g=0.5, s=28\n",
      "fmin=3.7e-01, iter=8270,A=1.0e+35, a=5, b=0.7, g=0.5, s=30\n",
      "fmin=2.0e+00, iter=11640,A=1.0e+35, a=5, b=0.7, g=0.7, s=26\n",
      "fmin=1.0e+00, iter=16170,A=1.0e+35, a=5, b=0.7, g=0.7, s=28\n",
      "fmin=3.6e-01, iter=7858,A=1.0e+35, a=5, b=0.7, g=0.7, s=30\n",
      "fmin=1.8e+00, iter=3557,A=1.0e+35, a=5, b=0.7, g=0.9, s=26\n",
      "fmin=9.4e-01, iter=14690,A=1.0e+35, a=5, b=0.7, g=0.9, s=28\n",
      "fmin=3.5e-01, iter=7481,A=1.0e+35, a=5, b=0.7, g=0.9, s=30\n",
      "fmin=1.8e+01, iter=283716,A=1.0e+35, a=5, b=0.9, g=0.1, s=24\n",
      "fmin=6.3e+00, iter=157935,A=1.0e+35, a=5, b=0.9, g=0.1, s=26\n",
      "fmin=1.0e+00, iter=33549,A=1.0e+35, a=5, b=0.9, g=0.1, s=28\n",
      "fmin=9.0e+00, iter=109048,A=1.0e+35, a=5, b=0.9, g=0.3, s=24\n",
      "fmin=4.1e+00, iter=82757,A=1.0e+35, a=5, b=0.9, g=0.3, s=26\n",
      "fmin=9.6e-01, iter=29486,A=1.0e+35, a=5, b=0.9, g=0.3, s=28\n",
      "fmin=6.3e+00, iter=61890,A=1.0e+35, a=5, b=0.9, g=0.5, s=24\n",
      "fmin=3.2e+00, iter=56368,A=1.0e+35, a=5, b=0.9, g=0.5, s=26\n",
      "fmin=8.9e-01, iter=25678,A=1.0e+35, a=5, b=0.9, g=0.5, s=28\n",
      "fmin=4.9e+00, iter=13445,A=1.0e+35, a=5, b=0.9, g=0.7, s=24\n",
      "fmin=2.6e+00, iter=42904,A=1.0e+35, a=5, b=0.9, g=0.7, s=26\n",
      "fmin=8.2e-01, iter=22554,A=1.0e+35, a=5, b=0.9, g=0.7, s=28\n",
      "fmin=2.2e+00, iter=34709,A=1.0e+35, a=5, b=0.9, g=0.9, s=26\n",
      "fmin=7.6e-01, iter=20042,A=1.0e+35, a=5, b=0.9, g=0.9, s=28\n",
      "fmin=6.5e-01, iter=7329,A=1.0e+35, a=6, b=0.1, g=0.1, s=30\n",
      "fmin=3.1e-01, iter=6142,A=1.0e+35, a=6, b=0.1, g=0.1, s=32\n",
      "fmin=6.3e-01, iter=7070,A=1.0e+35, a=6, b=0.1, g=0.3, s=30\n",
      "fmin=3.1e-01, iter=5925,A=1.0e+35, a=6, b=0.1, g=0.3, s=32\n",
      "fmin=6.1e-01, iter=6828,A=1.0e+35, a=6, b=0.1, g=0.5, s=30\n",
      "fmin=3.0e-01, iter=5721,A=1.0e+35, a=6, b=0.1, g=0.5, s=32\n",
      "fmin=5.9e-01, iter=6603,A=1.0e+35, a=6, b=0.1, g=0.7, s=30\n",
      "fmin=2.9e-01, iter=5528,A=1.0e+35, a=6, b=0.1, g=0.7, s=32\n",
      "fmin=5.8e-01, iter=6392,A=1.0e+35, a=6, b=0.1, g=0.9, s=30\n",
      "fmin=2.9e-01, iter=5345,A=1.0e+35, a=6, b=0.1, g=0.9, s=32\n",
      "fmin=9.8e-01, iter=9272,A=1.0e+35, a=6, b=0.3, g=0.1, s=28\n",
      "fmin=5.6e-01, iter=7701,A=1.0e+35, a=6, b=0.3, g=0.1, s=30\n",
      "fmin=2.3e-01, iter=4373,A=1.0e+35, a=6, b=0.3, g=0.1, s=32\n",
      "fmin=9.4e-01, iter=8796,A=1.0e+35, a=6, b=0.3, g=0.3, s=28\n",
      "fmin=5.4e-01, iter=7378,A=1.0e+35, a=6, b=0.3, g=0.3, s=30\n",
      "fmin=2.3e-01, iter=4192,A=1.0e+35, a=6, b=0.3, g=0.3, s=32\n",
      "fmin=9.0e-01, iter=8371,A=1.0e+35, a=6, b=0.3, g=0.5, s=28\n",
      "fmin=5.3e-01, iter=7082,A=1.0e+35, a=6, b=0.3, g=0.5, s=30\n",
      "fmin=2.2e-01, iter=4018,A=1.0e+35, a=6, b=0.3, g=0.5, s=32\n",
      "fmin=8.7e-01, iter=7988,A=1.0e+35, a=6, b=0.3, g=0.7, s=28\n",
      "fmin=5.1e-01, iter=6811,A=1.0e+35, a=6, b=0.3, g=0.7, s=30\n",
      "fmin=2.2e-01, iter=3850,A=1.0e+35, a=6, b=0.3, g=0.7, s=32\n",
      "fmin=8.4e-01, iter=7641,A=1.0e+35, a=6, b=0.3, g=0.9, s=28\n",
      "fmin=5.0e-01, iter=6560,A=1.0e+35, a=6, b=0.3, g=0.9, s=30\n",
      "fmin=2.1e-01, iter=3688,A=1.0e+35, a=6, b=0.3, g=0.9, s=32\n",
      "fmin=9.3e-01, iter=11654,A=1.0e+35, a=6, b=0.5, g=0.1, s=28\n",
      "fmin=4.4e-01, iter=7542,A=1.0e+35, a=6, b=0.5, g=0.1, s=30\n",
      "fmin=8.8e-01, iter=10853,A=1.0e+35, a=6, b=0.5, g=0.3, s=28\n",
      "fmin=4.3e-01, iter=7205,A=1.0e+35, a=6, b=0.5, g=0.3, s=30\n",
      "fmin=8.4e-01, iter=10162,A=1.0e+35, a=6, b=0.5, g=0.5, s=28\n",
      "fmin=4.1e-01, iter=6898,A=1.0e+35, a=6, b=0.5, g=0.5, s=30\n",
      "fmin=8.1e-01, iter=9559,A=1.0e+35, a=6, b=0.5, g=0.7, s=28\n",
      "fmin=4.0e-01, iter=6616,A=1.0e+35, a=6, b=0.5, g=0.7, s=30\n",
      "fmin=7.8e-01, iter=9027,A=1.0e+35, a=6, b=0.5, g=0.9, s=28\n",
      "fmin=3.9e-01, iter=6357,A=1.0e+35, a=6, b=0.5, g=0.9, s=30\n",
      "fmin=1.9e+00, iter=27486,A=1.0e+35, a=6, b=0.7, g=0.1, s=26\n",
      "fmin=8.0e-01, iter=14538,A=1.0e+35, a=6, b=0.7, g=0.1, s=28\n",
      "fmin=2.6e-01, iter=5374,A=1.0e+35, a=6, b=0.7, g=0.1, s=30\n",
      "fmin=1.7e+00, iter=23195,A=1.0e+35, a=6, b=0.7, g=0.3, s=26\n",
      "fmin=7.6e-01, iter=13293,A=1.0e+35, a=6, b=0.7, g=0.3, s=28\n",
      "fmin=2.5e-01, iter=5152,A=1.0e+35, a=6, b=0.7, g=0.3, s=30\n",
      "fmin=1.6e+00, iter=20105,A=1.0e+35, a=6, b=0.7, g=0.5, s=26\n",
      "fmin=7.2e-01, iter=12248,A=1.0e+35, a=6, b=0.7, g=0.5, s=28\n",
      "fmin=2.5e-01, iter=4940,A=1.0e+35, a=6, b=0.7, g=0.5, s=30\n",
      "fmin=1.4e+00, iter=17771,A=1.0e+35, a=6, b=0.7, g=0.7, s=26\n",
      "fmin=6.9e-01, iter=11359,A=1.0e+35, a=6, b=0.7, g=0.7, s=28\n",
      "fmin=2.4e-01, iter=4738,A=1.0e+35, a=6, b=0.7, g=0.7, s=30\n",
      "fmin=1.3e+00, iter=15943,A=1.0e+35, a=6, b=0.7, g=0.9, s=26\n",
      "fmin=6.6e-01, iter=10594,A=1.0e+35, a=6, b=0.7, g=0.9, s=28\n",
      "fmin=2.4e-01, iter=4546,A=1.0e+35, a=6, b=0.7, g=0.9, s=30\n",
      "fmin=1.0e+01, iter=200723,A=1.0e+35, a=6, b=0.9, g=0.1, s=24\n",
      "fmin=2.7e+00, iter=73628,A=1.0e+35, a=6, b=0.9, g=0.1, s=26\n",
      "fmin=4.0e-01, iter=12202,A=1.0e+35, a=6, b=0.9, g=0.1, s=28\n",
      "fmin=6.0e+00, iter=92446,A=1.0e+35, a=6, b=0.9, g=0.3, s=24\n",
      "fmin=2.2e+00, iter=52054,A=1.0e+35, a=6, b=0.9, g=0.3, s=26\n",
      "fmin=3.9e-01, iter=11669,A=1.0e+35, a=6, b=0.9, g=0.3, s=28\n",
      "fmin=4.4e+00, iter=60729,A=1.0e+35, a=6, b=0.9, g=0.5, s=24\n",
      "fmin=1.8e+00, iter=39926,A=1.0e+35, a=6, b=0.9, g=0.5, s=26\n",
      "fmin=3.8e-01, iter=11077,A=1.0e+35, a=6, b=0.9, g=0.5, s=28\n",
      "fmin=3.6e+00, iter=45423,A=1.0e+35, a=6, b=0.9, g=0.7, s=24\n"
     ]
    },
    {
     "name": "stdout",
     "output_type": "stream",
     "text": [
      "fmin=1.6e+00, iter=32392,A=1.0e+35, a=6, b=0.9, g=0.7, s=26\n",
      "fmin=3.7e-01, iter=10479,A=1.0e+35, a=6, b=0.9, g=0.7, s=28\n",
      "fmin=3.0e+00, iter=36363,A=1.0e+35, a=6, b=0.9, g=0.9, s=24\n",
      "fmin=1.4e+00, iter=27280,A=1.0e+35, a=6, b=0.9, g=0.9, s=26\n",
      "fmin=3.6e-01, iter=9901,A=1.0e+35, a=6, b=0.9, g=0.9, s=28\n",
      "fmin=5.6e-01, iter=6207,A=1.0e+35, a=7, b=0.1, g=0.1, s=30\n",
      "fmin=2.8e-01, iter=5080,A=1.0e+35, a=7, b=0.1, g=0.1, s=32\n",
      "fmin=5.4e-01, iter=6020,A=1.0e+35, a=7, b=0.1, g=0.3, s=30\n",
      "fmin=2.7e-01, iter=4916,A=1.0e+35, a=7, b=0.1, g=0.3, s=32\n",
      "fmin=5.3e-01, iter=5843,A=1.0e+35, a=7, b=0.1, g=0.5, s=30\n",
      "fmin=2.6e-01, iter=4759,A=1.0e+35, a=7, b=0.1, g=0.5, s=32\n",
      "fmin=5.2e-01, iter=5677,A=1.0e+35, a=7, b=0.1, g=0.7, s=30\n",
      "fmin=2.6e-01, iter=4608,A=1.0e+35, a=7, b=0.1, g=0.7, s=32\n",
      "fmin=5.1e-01, iter=5520,A=1.0e+35, a=7, b=0.1, g=0.9, s=30\n",
      "fmin=2.5e-01, iter=4464,A=1.0e+35, a=7, b=0.1, g=0.9, s=32\n",
      "fmin=8.0e-01, iter=7583,A=1.0e+35, a=7, b=0.3, g=0.1, s=28\n",
      "fmin=4.7e-01, iter=6272,A=1.0e+35, a=7, b=0.3, g=0.1, s=30\n",
      "fmin=2.0e-01, iter=3001,A=1.0e+35, a=7, b=0.3, g=0.1, s=32\n",
      "fmin=7.8e-01, iter=7264,A=1.0e+35, a=7, b=0.3, g=0.3, s=28\n",
      "fmin=4.6e-01, iter=6055,A=1.0e+35, a=7, b=0.3, g=0.3, s=30\n",
      "fmin=1.9e-01, iter=2848,A=1.0e+35, a=7, b=0.3, g=0.3, s=32\n",
      "fmin=7.5e-01, iter=6973,A=1.0e+35, a=7, b=0.3, g=0.5, s=28\n",
      "fmin=4.4e-01, iter=5853,A=1.0e+35, a=7, b=0.3, g=0.5, s=30\n",
      "fmin=1.9e-01, iter=2698,A=1.0e+35, a=7, b=0.3, g=0.5, s=32\n",
      "fmin=7.3e-01, iter=6706,A=1.0e+35, a=7, b=0.3, g=0.7, s=28\n",
      "fmin=4.3e-01, iter=5665,A=1.0e+35, a=7, b=0.3, g=0.7, s=30\n",
      "fmin=1.9e-01, iter=2550,A=1.0e+35, a=7, b=0.3, g=0.7, s=32\n",
      "fmin=7.1e-01, iter=6460,A=1.0e+35, a=7, b=0.3, g=0.9, s=28\n",
      "fmin=4.2e-01, iter=5489,A=1.0e+35, a=7, b=0.3, g=0.9, s=30\n",
      "fmin=1.8e-01, iter=2403,A=1.0e+35, a=7, b=0.3, g=0.9, s=32\n",
      "fmin=7.1e-01, iter=8851,A=1.0e+35, a=7, b=0.5, g=0.1, s=28\n",
      "fmin=3.4e-01, iter=5723,A=1.0e+35, a=7, b=0.5, g=0.1, s=30\n",
      "fmin=6.9e-01, iter=8380,A=1.0e+35, a=7, b=0.5, g=0.3, s=28\n",
      "fmin=3.4e-01, iter=5520,A=1.0e+35, a=7, b=0.5, g=0.3, s=30\n",
      "fmin=6.6e-01, iter=7959,A=1.0e+35, a=7, b=0.5, g=0.5, s=28\n",
      "fmin=3.3e-01, iter=5331,A=1.0e+35, a=7, b=0.5, g=0.5, s=30\n",
      "fmin=6.4e-01, iter=7581,A=1.0e+35, a=7, b=0.5, g=0.7, s=28\n",
      "fmin=3.2e-01, iter=5154,A=1.0e+35, a=7, b=0.5, g=0.7, s=30\n",
      "fmin=6.2e-01, iter=7240,A=1.0e+35, a=7, b=0.5, g=0.9, s=28\n",
      "fmin=3.1e-01, iter=4988,A=1.0e+35, a=7, b=0.5, g=0.9, s=30\n",
      "fmin=1.3e+00, iter=18253,A=1.0e+35, a=7, b=0.7, g=0.1, s=26\n",
      "fmin=5.4e-01, iter=9620,A=1.0e+35, a=7, b=0.7, g=0.1, s=28\n",
      "fmin=1.8e-01, iter=2252,A=1.0e+35, a=7, b=0.7, g=0.1, s=30\n",
      "fmin=1.2e+00, iter=16254,A=1.0e+35, a=7, b=0.7, g=0.3, s=26\n",
      "fmin=5.2e-01, iter=9053,A=1.0e+35, a=7, b=0.7, g=0.3, s=28\n",
      "fmin=1.8e-01, iter=2093,A=1.0e+35, a=7, b=0.7, g=0.3, s=30\n",
      "fmin=1.1e+00, iter=14667,A=1.0e+35, a=7, b=0.7, g=0.5, s=26\n",
      "fmin=5.0e-01, iter=8549,A=1.0e+35, a=7, b=0.7, g=0.5, s=28\n",
      "fmin=1.8e-01, iter=1935,A=1.0e+35, a=7, b=0.7, g=0.5, s=30\n",
      "fmin=1.0e+00, iter=13376,A=1.0e+35, a=7, b=0.7, g=0.7, s=26\n",
      "fmin=4.9e-01, iter=8100,A=1.0e+35, a=7, b=0.7, g=0.7, s=28\n",
      "fmin=1.7e-01, iter=1777,A=1.0e+35, a=7, b=0.7, g=0.7, s=30\n",
      "fmin=9.8e-01, iter=12305,A=1.0e+35, a=7, b=0.7, g=0.9, s=26\n",
      "fmin=4.7e-01, iter=7697,A=1.0e+35, a=7, b=0.7, g=0.9, s=28\n",
      "fmin=1.7e-01, iter=1619,A=1.0e+35, a=7, b=0.7, g=0.9, s=30\n",
      "fmin=5.2e+00, iter=116872,A=1.0e+35, a=7, b=0.9, g=0.1, s=24\n",
      "fmin=1.2e+00, iter=31836,A=1.0e+35, a=7, b=0.9, g=0.1, s=26\n",
      "fmin=1.7e-01, iter=2108,A=1.0e+35, a=7, b=0.9, g=0.1, s=28\n",
      "fmin=3.7e+00, iter=68495,A=1.0e+35, a=7, b=0.9, g=0.3, s=24\n",
      "fmin=1.0e+00, iter=27311,A=1.0e+35, a=7, b=0.9, g=0.3, s=26\n",
      "fmin=1.7e-01, iter=1969,A=1.0e+35, a=7, b=0.9, g=0.3, s=28\n",
      "fmin=2.9e+00, iter=48681,A=1.0e+35, a=7, b=0.9, g=0.5, s=24\n",
      "fmin=9.6e-01, iter=23654,A=1.0e+35, a=7, b=0.9, g=0.5, s=26\n",
      "fmin=1.7e-01, iter=1817,A=1.0e+35, a=7, b=0.9, g=0.5, s=28\n",
      "fmin=2.4e+00, iter=37908,A=1.0e+35, a=7, b=0.9, g=0.7, s=24\n",
      "fmin=8.8e-01, iter=20786,A=1.0e+35, a=7, b=0.9, g=0.7, s=26\n",
      "fmin=1.7e-01, iter=1655,A=1.0e+35, a=7, b=0.9, g=0.7, s=28\n",
      "fmin=2.1e+00, iter=31116,A=1.0e+35, a=7, b=0.9, g=0.9, s=24\n",
      "fmin=8.2e-01, iter=18516,A=1.0e+35, a=7, b=0.9, g=0.9, s=26\n",
      "fmin=1.7e-01, iter=1485,A=1.0e+35, a=7, b=0.9, g=0.9, s=28\n",
      "fmin=4.9e-01, iter=5372,A=1.0e+35, a=8, b=0.1, g=0.1, s=30\n",
      "fmin=2.5e-01, iter=4237,A=1.0e+35, a=8, b=0.1, g=0.1, s=32\n",
      "fmin=4.8e-01, iter=5231,A=1.0e+35, a=8, b=0.1, g=0.3, s=30\n",
      "fmin=2.4e-01, iter=4104,A=1.0e+35, a=8, b=0.1, g=0.3, s=32\n",
      "fmin=4.7e-01, iter=5097,A=1.0e+35, a=8, b=0.1, g=0.5, s=30\n",
      "fmin=2.4e-01, iter=3975,A=1.0e+35, a=8, b=0.1, g=0.5, s=32\n",
      "fmin=4.6e-01, iter=4970,A=1.0e+35, a=8, b=0.1, g=0.7, s=30\n",
      "fmin=2.3e-01, iter=3850,A=1.0e+35, a=8, b=0.1, g=0.7, s=32\n",
      "fmin=4.5e-01, iter=4849,A=1.0e+35, a=8, b=0.1, g=0.9, s=30\n",
      "fmin=2.3e-01, iter=3728,A=1.0e+35, a=8, b=0.1, g=0.9, s=32\n",
      "fmin=6.8e-01, iter=6344,A=1.0e+35, a=8, b=0.3, g=0.1, s=28\n",
      "fmin=4.0e-01, iter=5242,A=1.0e+35, a=8, b=0.3, g=0.1, s=30\n",
      "fmin=1.7e-01, iter=1644,A=1.0e+35, a=8, b=0.3, g=0.1, s=32\n",
      "fmin=6.6e-01, iter=6120,A=1.0e+35, a=8, b=0.3, g=0.3, s=28\n",
      "fmin=3.9e-01, iter=5088,A=1.0e+35, a=8, b=0.3, g=0.3, s=30\n",
      "fmin=1.7e-01, iter=1490,A=1.0e+35, a=8, b=0.3, g=0.3, s=32\n",
      "fmin=6.4e-01, iter=5911,A=1.0e+35, a=8, b=0.3, g=0.5, s=28\n",
      "fmin=3.8e-01, iter=4943,A=1.0e+35, a=8, b=0.3, g=0.5, s=30\n",
      "fmin=1.7e-01, iter=1335,A=1.0e+35, a=8, b=0.3, g=0.5, s=32\n",
      "fmin=6.3e-01, iter=5718,A=1.0e+35, a=8, b=0.3, g=0.7, s=28\n",
      "fmin=3.7e-01, iter=4807,A=1.0e+35, a=8, b=0.3, g=0.7, s=30\n",
      "fmin=1.6e-01, iter=1179,A=1.0e+35, a=8, b=0.3, g=0.7, s=32\n",
      "fmin=6.1e-01, iter=5537,A=1.0e+35, a=8, b=0.3, g=0.9, s=28\n",
      "fmin=3.7e-01, iter=4678,A=1.0e+35, a=8, b=0.3, g=0.9, s=30\n",
      "fmin=1.6e-01, iter=1021,A=1.0e+35, a=8, b=0.3, g=0.9, s=32\n",
      "fmin=5.7e-01, iter=6959,A=1.0e+35, a=8, b=0.5, g=0.1, s=28\n",
      "fmin=2.8e-01, iter=4431,A=1.0e+35, a=8, b=0.5, g=0.1, s=30\n",
      "fmin=5.5e-01, iter=6663,A=1.0e+35, a=8, b=0.5, g=0.3, s=28\n",
      "fmin=2.7e-01, iter=4298,A=1.0e+35, a=8, b=0.5, g=0.3, s=30\n",
      "fmin=5.4e-01, iter=6393,A=1.0e+35, a=8, b=0.5, g=0.5, s=28\n",
      "fmin=2.7e-01, iter=4171,A=1.0e+35, a=8, b=0.5, g=0.5, s=30\n",
      "fmin=5.2e-01, iter=6145,A=1.0e+35, a=8, b=0.5, g=0.7, s=28\n",
      "fmin=2.6e-01, iter=4050,A=1.0e+35, a=8, b=0.5, g=0.7, s=30\n",
      "fmin=5.1e-01, iter=5917,A=1.0e+35, a=8, b=0.5, g=0.9, s=28\n",
      "fmin=2.6e-01, iter=3935,A=1.0e+35, a=8, b=0.5, g=0.9, s=30\n",
      "fmin=8.8e-01, iter=12633,A=1.0e+35, a=8, b=0.7, g=0.1, s=26\n",
      "fmin=3.8e-01, iter=6651,A=1.0e+35, a=8, b=0.7, g=0.1, s=28\n",
      "fmin=8.4e-01, iter=11636,A=1.0e+35, a=8, b=0.7, g=0.3, s=26\n",
      "fmin=3.7e-01, iter=6369,A=1.0e+35, a=8, b=0.7, g=0.3, s=28\n",
      "fmin=8.0e-01, iter=10791,A=1.0e+35, a=8, b=0.7, g=0.5, s=26\n",
      "fmin=3.6e-01, iter=6109,A=1.0e+35, a=8, b=0.7, g=0.5, s=28\n",
      "fmin=7.6e-01, iter=10067,A=1.0e+35, a=8, b=0.7, g=0.7, s=26\n",
      "fmin=3.5e-01, iter=5869,A=1.0e+35, a=8, b=0.7, g=0.7, s=28\n",
      "fmin=7.3e-01, iter=9438,A=1.0e+35, a=8, b=0.7, g=0.9, s=26\n",
      "fmin=3.5e-01, iter=5647,A=1.0e+35, a=8, b=0.7, g=0.9, s=28\n",
      "fmin=8.2e+00, iter=152631,A=1.0e+35, a=8, b=0.9, g=0.1, s=22\n",
      "fmin=2.5e+00, iter=59576,A=1.0e+35, a=8, b=0.9, g=0.1, s=24\n",
      "fmin=5.2e-01, iter=14103,A=1.0e+35, a=8, b=0.9, g=0.1, s=26\n",
      "fmin=5.3e+00, iter=77953,A=1.0e+35, a=8, b=0.9, g=0.3, s=22\n",
      "fmin=2.1e+00, iter=43878,A=1.0e+35, a=8, b=0.9, g=0.3, s=24\n",
      "fmin=5.0e-01, iter=13171,A=1.0e+35, a=8, b=0.9, g=0.3, s=26\n",
      "fmin=4.0e+00, iter=51879,A=1.0e+35, a=8, b=0.9, g=0.5, s=22\n",
      "fmin=1.8e+00, iter=34603,A=1.0e+35, a=8, b=0.9, g=0.5, s=24\n",
      "fmin=4.8e-01, iter=12289,A=1.0e+35, a=8, b=0.9, g=0.5, s=26\n",
      "fmin=3.3e+00, iter=37482,A=1.0e+35, a=8, b=0.9, g=0.7, s=22\n",
      "fmin=1.6e+00, iter=28593,A=1.0e+35, a=8, b=0.9, g=0.7, s=24\n",
      "fmin=4.6e-01, iter=11482,A=1.0e+35, a=8, b=0.9, g=0.7, s=26\n",
      "fmin=2.8e+00, iter=26912,A=1.0e+35, a=8, b=0.9, g=0.9, s=22\n",
      "fmin=1.4e+00, iter=24393,A=1.0e+35, a=8, b=0.9, g=0.9, s=24\n",
      "fmin=4.4e-01, iter=10752,A=1.0e+35, a=8, b=0.9, g=0.9, s=26\n",
      "fmin=4.4e-01, iter=4727,A=1.0e+35, a=9, b=0.1, g=0.1, s=30\n",
      "fmin=2.2e-01, iter=3522,A=1.0e+35, a=9, b=0.1, g=0.1, s=32\n",
      "fmin=6.5e-01, iter=978,A=1.0e+35, a=9, b=0.1, g=0.3, s=28\n",
      "fmin=4.3e-01, iter=4617,A=1.0e+35, a=9, b=0.1, g=0.3, s=30\n",
      "fmin=2.2e-01, iter=3406,A=1.0e+35, a=9, b=0.1, g=0.3, s=32\n",
      "fmin=6.4e-01, iter=1711,A=1.0e+35, a=9, b=0.1, g=0.5, s=28\n",
      "fmin=4.2e-01, iter=4512,A=1.0e+35, a=9, b=0.1, g=0.5, s=30\n",
      "fmin=2.1e-01, iter=3293,A=1.0e+35, a=9, b=0.1, g=0.5, s=32\n",
      "fmin=6.2e-01, iter=2267,A=1.0e+35, a=9, b=0.1, g=0.7, s=28\n",
      "fmin=4.1e-01, iter=4412,A=1.0e+35, a=9, b=0.1, g=0.7, s=30\n",
      "fmin=2.1e-01, iter=3182,A=1.0e+35, a=9, b=0.1, g=0.7, s=32\n",
      "fmin=6.1e-01, iter=2683,A=1.0e+35, a=9, b=0.1, g=0.9, s=28\n",
      "fmin=4.0e-01, iter=4316,A=1.0e+35, a=9, b=0.1, g=0.9, s=30\n",
      "fmin=2.1e-01, iter=3072,A=1.0e+35, a=9, b=0.1, g=0.9, s=32\n",
      "fmin=5.8e-01, iter=5411,A=1.0e+35, a=9, b=0.3, g=0.1, s=28\n",
      "fmin=3.4e-01, iter=4465,A=1.0e+35, a=9, b=0.3, g=0.1, s=30\n"
     ]
    },
    {
     "name": "stdout",
     "output_type": "stream",
     "text": [
      "fmin=5.7e-01, iter=5246,A=1.0e+35, a=9, b=0.3, g=0.3, s=28\n",
      "fmin=3.4e-01, iter=4352,A=1.0e+35, a=9, b=0.3, g=0.3, s=30\n",
      "fmin=5.6e-01, iter=5092,A=1.0e+35, a=9, b=0.3, g=0.5, s=28\n",
      "fmin=3.3e-01, iter=4244,A=1.0e+35, a=9, b=0.3, g=0.5, s=30\n",
      "fmin=5.5e-01, iter=4948,A=1.0e+35, a=9, b=0.3, g=0.7, s=28\n",
      "fmin=3.3e-01, iter=4141,A=1.0e+35, a=9, b=0.3, g=0.7, s=30\n",
      "fmin=5.3e-01, iter=4811,A=1.0e+35, a=9, b=0.3, g=0.9, s=28\n",
      "fmin=3.2e-01, iter=4043,A=1.0e+35, a=9, b=0.3, g=0.9, s=30\n",
      "fmin=4.7e-01, iter=5619,A=1.0e+35, a=9, b=0.5, g=0.1, s=28\n",
      "fmin=2.3e-01, iter=3401,A=1.0e+35, a=9, b=0.5, g=0.1, s=30\n",
      "fmin=4.5e-01, iter=5424,A=1.0e+35, a=9, b=0.5, g=0.3, s=28\n",
      "fmin=2.3e-01, iter=3302,A=1.0e+35, a=9, b=0.5, g=0.3, s=30\n",
      "fmin=4.4e-01, iter=5243,A=1.0e+35, a=9, b=0.5, g=0.5, s=28\n",
      "fmin=2.2e-01, iter=3207,A=1.0e+35, a=9, b=0.5, g=0.5, s=30\n",
      "fmin=4.3e-01, iter=5074,A=1.0e+35, a=9, b=0.5, g=0.7, s=28\n",
      "fmin=2.2e-01, iter=3114,A=1.0e+35, a=9, b=0.5, g=0.7, s=30\n",
      "fmin=4.3e-01, iter=4917,A=1.0e+35, a=9, b=0.5, g=0.9, s=28\n",
      "fmin=2.2e-01, iter=3023,A=1.0e+35, a=9, b=0.5, g=0.9, s=30\n",
      "fmin=6.4e-01, iter=9072,A=1.0e+35, a=9, b=0.7, g=0.1, s=26\n",
      "fmin=2.8e-01, iter=4688,A=1.0e+35, a=9, b=0.7, g=0.1, s=28\n",
      "fmin=6.2e-01, iter=8544,A=1.0e+35, a=9, b=0.7, g=0.3, s=26\n",
      "fmin=2.8e-01, iter=4532,A=1.0e+35, a=9, b=0.7, g=0.3, s=28\n",
      "fmin=6.0e-01, iter=8076,A=1.0e+35, a=9, b=0.7, g=0.5, s=26\n",
      "fmin=2.7e-01, iter=4384,A=1.0e+35, a=9, b=0.7, g=0.5, s=28\n",
      "fmin=5.8e-01, iter=7659,A=1.0e+35, a=9, b=0.7, g=0.7, s=26\n",
      "fmin=2.7e-01, iter=4245,A=1.0e+35, a=9, b=0.7, g=0.7, s=28\n",
      "fmin=5.6e-01, iter=7286,A=1.0e+35, a=9, b=0.7, g=0.9, s=26\n",
      "fmin=2.6e-01, iter=4113,A=1.0e+35, a=9, b=0.7, g=0.9, s=28\n",
      "fmin=4.4e+00, iter=90562,A=1.0e+35, a=9, b=0.9, g=0.1, s=22\n",
      "fmin=1.2e+00, iter=29342,A=1.0e+35, a=9, b=0.9, g=0.1, s=24\n",
      "fmin=2.5e-01, iter=5772,A=1.0e+35, a=9, b=0.9, g=0.1, s=26\n",
      "fmin=3.3e+00, iter=57679,A=1.0e+35, a=9, b=0.9, g=0.3, s=22\n",
      "fmin=1.1e+00, iter=25057,A=1.0e+35, a=9, b=0.9, g=0.3, s=24\n",
      "fmin=2.5e-01, iter=5535,A=1.0e+35, a=9, b=0.9, g=0.3, s=26\n",
      "fmin=2.7e+00, iter=42513,A=1.0e+35, a=9, b=0.9, g=0.5, s=22\n",
      "fmin=1.0e+00, iter=21751,A=1.0e+35, a=9, b=0.9, g=0.5, s=24\n",
      "fmin=2.4e-01, iter=5298,A=1.0e+35, a=9, b=0.9, g=0.5, s=26\n",
      "fmin=2.3e+00, iter=33791,A=1.0e+35, a=9, b=0.9, g=0.7, s=22\n",
      "fmin=9.3e-01, iter=19187,A=1.0e+35, a=9, b=0.9, g=0.7, s=24\n",
      "fmin=2.4e-01, iter=5065,A=1.0e+35, a=9, b=0.9, g=0.7, s=26\n"
     ]
    },
    {
     "name": "stderr",
     "output_type": "stream",
     "text": [
      "100%|███████████████████████████████████████████████████████████████████████████████████| 1/1 [02:05<00:00, 125.82s/it]"
     ]
    },
    {
     "name": "stdout",
     "output_type": "stream",
     "text": [
      "fmin=2.0e+00, iter=28109,A=1.0e+35, a=9, b=0.9, g=0.9, s=22\n",
      "fmin=8.6e-01, iter=17158,A=1.0e+35, a=9, b=0.9, g=0.9, s=24\n",
      "fmin=2.3e-01, iter=4838,A=1.0e+35, a=9, b=0.9, g=0.9, s=26\n"
     ]
    },
    {
     "name": "stderr",
     "output_type": "stream",
     "text": [
      "\n"
     ]
    }
   ],
   "source": [
    "min_fun = []\n",
    "# первоначальное точка\n",
    "start_point = 0.15\n",
    "# размер шага(learning rate)\n",
    "learn_r = 0.0000001\n",
    "# установка первоначальной точности\n",
    "precision = 0.00001\n",
    "for A in tqdm(range(10**35, 10**50, 10**50)):\n",
    "    for a in range(1, 10):\n",
    "        for b in np.arange(0.1, 1, 0.2):\n",
    "            for g in np.arange(0.1, 1, 0.2):\n",
    "                for s in range(0, 50, 2):\n",
    "                    # функция градиента\n",
    "                    gr_func = lambda x: 1 + A*(-(a*(1-b)*x**(1-b))/x-g)*np.log(10)*10**(-(a*x**(1-b)+g*x+s))\n",
    "                    # количество итерация\n",
    "                    n = 1000000\n",
    "                    next_point = start_point\n",
    "                    iter_ = 0\n",
    "                    for i in range(n):\n",
    "                        current_point = next_point\n",
    "                        # движение в негативную сторону вычисляемого градиента\n",
    "                        next_point = current_point - learn_r*gr_func(current_point)\n",
    "                        iter_ += 1\n",
    "                        if(abs(current_point - next_point) <= precision):\n",
    "                            break\n",
    "                    if iter_ > 100:\n",
    "                        print(f'fmin={next_point:2.1e}, iter={iter_},'\n",
    "                              f'A={A:1.1e}, a={a}, b={b:.1f}, g={g:.1f}, s={s}')\n",
    "                        min_fun.append([next_point, A, a, b, g, s])"
   ]
  },
  {
   "cell_type": "code",
   "execution_count": 50,
   "id": "94df6e27",
   "metadata": {},
   "outputs": [],
   "source": [
    "min_fun.sort(key = lambda row: row[0])"
   ]
  },
  {
   "cell_type": "code",
   "execution_count": 51,
   "id": "85b41f1d",
   "metadata": {},
   "outputs": [
    {
     "name": "stdout",
     "output_type": "stream",
     "text": [
      "fmin=0.162, A=1.0e+35, a=8, b=0.3, g=0.9, s=32\n"
     ]
    }
   ],
   "source": [
    "print(f'fmin={min_fun[0][0]:.3f}, A={min_fun[0][1]:.1e}, a={min_fun[0][2]}, b={min_fun[0][3]:.1f},'\n",
    "      f' g={min_fun[0][4]:.1f}, s={min_fun[0][5]}')"
   ]
  },
  {
   "cell_type": "markdown",
   "id": "5b6a3723",
   "metadata": {},
   "source": [
    "##### Задача 3."
   ]
  },
  {
   "cell_type": "markdown",
   "id": "c476bb0b",
   "metadata": {},
   "source": [
    "Не понял условие:  Сумма S считается по обычным правилам сложения десятичных чисел —\n",
    "таким образом, она находится в диапазоне от 0 до N(q − 1)?\n",
    "Пусть q=7 последовательность длины N = 1000. $0<\\sum_i {q_i}<23331_7$"
   ]
  },
  {
   "cell_type": "code",
   "execution_count": 52,
   "id": "19c7c36c",
   "metadata": {},
   "outputs": [],
   "source": [
    "def convert_base(num, to_base=10, from_base=10):\n",
    "    # first convert to decimal number\n",
    "    if isinstance(num, str):\n",
    "        n = int(num, from_base)\n",
    "    else:\n",
    "        n = int(num)\n",
    "    # now convert decimal to 'to_base' base\n",
    "    alphabet = \"0123456789ABCDEFGHIJKLMNOPQRSTUVWXYZ\"\n",
    "    if n < to_base:\n",
    "        return alphabet[n]\n",
    "    else:\n",
    "        return convert_base(n // to_base, to_base) + alphabet[n % to_base]"
   ]
  },
  {
   "cell_type": "code",
   "execution_count": 53,
   "id": "c714deed",
   "metadata": {},
   "outputs": [],
   "source": [
    "def sum_rand_n(n):\n",
    "    q = 0\n",
    "    for _ in range(1000):\n",
    "        q += random.randint(0, 7)\n",
    "    return q"
   ]
  },
  {
   "cell_type": "code",
   "execution_count": 55,
   "id": "e33e3d48",
   "metadata": {},
   "outputs": [
    {
     "data": {
      "text/plain": [
       "'23454'"
      ]
     },
     "execution_count": 55,
     "metadata": {},
     "output_type": "execute_result"
    }
   ],
   "source": [
    "q = 6066\n",
    "convert_base(q, to_base=7, from_base=10)"
   ]
  },
  {
   "cell_type": "markdown",
   "id": "263f1197",
   "metadata": {},
   "source": [
    "$M(x_i)=\\frac{\\displaystyle\\sum_{i=1}^{q-1}i}{q}=\\frac{q-1}{2}, \\quad M(x_i^2)=\\frac{\\displaystyle\\sum_{i=1}^{q-1}i^2}{q}=\\frac{\\frac{1}{6} q(q-1)(2q-1)}{q}=\\frac{(q-1)(2q-1)}{6}, \\quad D(x_i)=M(x_i^2)-M(x_i)^2=\\frac{q^2-1}{12}\\implies$\n",
    "\n",
    "$M(S_n)=\\frac{n(q-1)}{2}, \\quad D(S_n)=\\frac{n(q^2-1)}{12},$ \n",
    "$\\quad\\displaystyle P(\\{\\frac{S_n-M(S_n)}{\\sqrt[2]{D(S_n)}}<d\\})\\approx 2\\Phi_0(d)$"
   ]
  },
  {
   "cell_type": "code",
   "execution_count": 56,
   "id": "2df04db2",
   "metadata": {},
   "outputs": [],
   "source": [
    "def ppf(p):\n",
    "    return round(stats.norm.ppf(0.5+p/200),2)\n",
    "\n",
    "def segment_calc(q, N, p):\n",
    "    S_n = (q-1)/2*N\n",
    "    ppf_p = ppf(p)\n",
    "    return ceil(((sqrt(ppf_p**2*(q**2-1)/12+2*(q-1)*S_n)-ppf_p*sqrt((q**2-1)/12))/(q-1))**2)\n",
    "\n",
    "def segment_out(q, N, p):\n",
    "    seg = segment_calc(q, N, p)\n",
    "    a = '{'\n",
    "    b = '}'\n",
    "    print(f'{a}d1, d2{b}={a}k, k+{seg}{b} ∀k∈{a}0,1,...,{N-seg}{b}')"
   ]
  },
  {
   "cell_type": "code",
   "execution_count": 57,
   "id": "525da457",
   "metadata": {},
   "outputs": [
    {
     "name": "stdout",
     "output_type": "stream",
     "text": [
      "{d1, d2}={k, k+1965} ∀k∈{0,1,...,57}\n"
     ]
    }
   ],
   "source": [
    "segment_out(7,2022,95)"
   ]
  },
  {
   "cell_type": "code",
   "execution_count": 60,
   "id": "dcb8fdc0",
   "metadata": {},
   "outputs": [
    {
     "data": {
      "text/plain": [
       "98.61268403171007"
      ]
     },
     "execution_count": 60,
     "metadata": {},
     "output_type": "execute_result"
    }
   ],
   "source": [
    "# проверка\n",
    "(sum_rand_n(segment_calc(7,2022,95))/sum_rand_n(2022))*100"
   ]
  },
  {
   "cell_type": "code",
   "execution_count": null,
   "id": "3dbfcad1",
   "metadata": {},
   "outputs": [],
   "source": []
  }
 ],
 "metadata": {
  "kernelspec": {
   "display_name": "Python 3 (ipykernel)",
   "language": "python",
   "name": "python3"
  },
  "language_info": {
   "codemirror_mode": {
    "name": "ipython",
    "version": 3
   },
   "file_extension": ".py",
   "mimetype": "text/x-python",
   "name": "python",
   "nbconvert_exporter": "python",
   "pygments_lexer": "ipython3",
   "version": "3.9.13"
  }
 },
 "nbformat": 4,
 "nbformat_minor": 5
}
